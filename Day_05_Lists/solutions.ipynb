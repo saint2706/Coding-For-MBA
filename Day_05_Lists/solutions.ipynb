{
 "cells": [
  {
   "cell_type": "markdown",
   "id": "db97c5dd",
   "metadata": {},
   "source": [
    "Day 5: Solutions to Exercises"
   ]
  },
  {
   "cell_type": "code",
   "execution_count": null,
   "id": "e360c7dd",
   "metadata": {},
   "outputs": [],
   "source": [
    "\n",
    "# --- Exercise 1: Manage a Product List ---\n",
    "print(\"--- Solution to Exercise 1 ---\")\n",
    "products = [\"Laptop\", \"Mouse\", \"Keyboard\", \"Monitor\"]\n",
    "print(f\"Initial product list: {products}\")\n",
    "\n",
    "# Add \"Webcam\" to the end of the list\n",
    "products.append(\"Webcam\")\n",
    "print(f\"After adding 'Webcam': {products}\")\n",
    "\n",
    "# Remove \"Mouse\" from the list\n",
    "products.remove(\"Mouse\")\n",
    "print(f\"After removing 'Mouse': {products}\")\n",
    "print(f\"Final available products: {products}\")\n",
    "print(\"-\" * 20)\n",
    "\n",
    "\n",
    "# --- Exercise 2: Analyze Monthly Expenses ---\n",
    "print(\"--- Solution to Exercise 2 ---\")\n",
    "monthly_expenses = [2200, 2350, 2600, 2130, 2190]\n",
    "print(f\"Initial monthly expenses: {monthly_expenses}\")\n",
    "\n",
    "# Find total, min, and max expenses\n",
    "total_expenses = sum(monthly_expenses)\n",
    "highest_expense = max(monthly_expenses)\n",
    "lowest_expense = min(monthly_expenses)\n",
    "\n",
    "print(f\"Total expenses: ${total_expenses}\")\n",
    "print(f\"Highest monthly expense: ${highest_expense}\")\n",
    "print(f\"Lowest monthly expense: ${lowest_expense}\")\n",
    "\n",
    "# Add a new expense and print the updated total\n",
    "new_expense = 2400\n",
    "monthly_expenses.append(new_expense)\n",
    "updated_total_expenses = sum(monthly_expenses)\n",
    "print(\n",
    "    f\"After adding a new expense of ${new_expense}, the new total is: ${updated_total_expenses}\"\n",
    ")\n",
    "print(\"-\" * 20)\n",
    "\n",
    "\n",
    "# --- Exercise 3: Select Top Sales Performers ---\n",
    "print(\"--- Solution to Exercise 3 ---\")\n",
    "sales_figures = [5000, 8000, 4500, 12000, 6000, 11000]\n",
    "print(f\"Original sales figures: {sales_figures}\")\n",
    "\n",
    "# Sort the list in descending order (highest to lowest)\n",
    "sales_figures.sort(reverse=True)\n",
    "print(f\"Sorted sales figures: {sales_figures}\")\n",
    "\n",
    "# \"Slice\" the list to get the top 3\n",
    "top_3_sales = sales_figures[0:3]\n",
    "\n",
    "print(f\"The top 3 sales figures are: {top_3_sales}\")\n",
    "print(\"-\" * 20)\n"
   ]
  }
 ],
 "metadata": {
  "kernelspec": {
   "display_name": "Python 3",
   "language": "python",
   "name": "python3"
  },
  "language_info": {
   "name": "python",
   "version": "3.12.10"
  }
 },
 "nbformat": 4,
 "nbformat_minor": 5
}
