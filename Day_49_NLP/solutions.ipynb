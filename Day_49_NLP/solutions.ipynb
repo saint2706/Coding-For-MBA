{
 "cells": [
  {
   "cell_type": "markdown",
   "id": "805f4771",
   "metadata": {},
   "source": [
    "Utility functions and a demo for bag-of-words and TF-IDF vectorization."
   ]
  },
  {
   "cell_type": "code",
   "execution_count": null,
   "id": "df976ecd",
   "metadata": {},
   "outputs": [],
   "source": [
    "\n",
    "import pandas as pd\n",
    "from sklearn.feature_extraction.text import CountVectorizer, TfidfVectorizer\n",
    "\n",
    "\n",
    "def build_count_matrix(corpus):\n",
    "    \"\"\"Return a document-term matrix of raw counts for the given corpus.\"\"\"\n",
    "\n",
    "    vectorizer = CountVectorizer()\n",
    "    matrix = vectorizer.fit_transform(corpus)\n",
    "    return pd.DataFrame(matrix.toarray(), columns=vectorizer.get_feature_names_out())\n",
    "\n",
    "\n",
    "def build_tfidf_matrix(corpus):\n",
    "    \"\"\"Return a document-term matrix of TF-IDF scores for the given corpus.\"\"\"\n",
    "\n",
    "    vectorizer = TfidfVectorizer()\n",
    "    matrix = vectorizer.fit_transform(corpus)\n",
    "    return pd.DataFrame(matrix.toarray(), columns=vectorizer.get_feature_names_out())\n",
    "\n",
    "\n",
    "def demo():\n",
    "    \"\"\"Print a walkthrough of bag-of-words and TF-IDF representations.\"\"\"\n",
    "\n",
    "    corpus = [\n",
    "        \"The quick brown fox jumped over the lazy dog.\",\n",
    "        \"The dog was not lazy.\",\n",
    "        \"The fox is quick.\",\n",
    "    ]\n",
    "\n",
    "    print(\"--- NLP Vectorization Demo ---\")\n",
    "    print(\"Sample Corpus:\")\n",
    "    for doc in corpus:\n",
    "        print(f\"- '{doc}'\")\n",
    "    print(\"-\" * 30)\n",
    "\n",
    "    print(\"\\n--- 1. Bag-of-Words (CountVectorizer) ---\")\n",
    "    df_count = build_count_matrix(corpus)\n",
    "    print(\"Vocabulary (Feature Names):\")\n",
    "    print(df_count.columns.to_list())\n",
    "    print(\"\\nDocument-Term Matrix (Counts):\")\n",
    "    print(df_count)\n",
    "    print(\"This matrix shows the count of each word in each document.\")\n",
    "    print(\"-\" * 30)\n",
    "\n",
    "    print(\"\\n--- 2. TF-IDF (TfidfVectorizer) ---\")\n",
    "    df_tfidf = build_tfidf_matrix(corpus)\n",
    "    print(\"Vocabulary (Feature Names):\")\n",
    "    print(df_tfidf.columns.to_list())\n",
    "    print(\"\\nTF-IDF Matrix:\")\n",
    "    print(df_tfidf.round(2))\n",
    "    print(\n",
    "        \"This matrix shows the TF-IDF score for each word, highlighting important words.\"\n",
    "    )\n",
    "    print(\"-\" * 30)\n",
    "\n",
    "\n",
    "if __name__ == \"__main__\":\n",
    "    demo()\n"
   ]
  }
 ],
 "metadata": {
  "kernelspec": {
   "display_name": "Python 3",
   "language": "python",
   "name": "python3"
  },
  "language_info": {
   "name": "python",
   "version": "3.12.10"
  }
 },
 "nbformat": 4,
 "nbformat_minor": 5
}
