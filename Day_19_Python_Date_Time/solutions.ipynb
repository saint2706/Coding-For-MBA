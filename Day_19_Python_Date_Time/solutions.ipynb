{
 "cells": [
  {
   "cell_type": "code",
   "execution_count": null,
   "id": "ca0d6d19",
   "metadata": {},
   "outputs": [],
   "source": [
    "# Day 19: Python Date and Time - Solutions\n",
    "\n",
    "from datetime import datetime, date\n",
    "\n",
    "## Exercise 1: Format the current date\n",
    "\n",
    "now = datetime.now()\n",
    "formatted_date = now.strftime(\"Today is %d %B, %Y\")\n",
    "print(formatted_date)\n",
    "\n",
    "\n",
    "## Exercise 2: Calculate the number of days until your next birthday\n",
    "\n",
    "\n",
    "def days_until_next_birthday(birthday_month: int, birthday_day: int) -> int:\n",
    "    today = date.today()\n",
    "    next_birthday_year = today.year\n",
    "\n",
    "    # Check if the birthday has already passed this year\n",
    "    if today.month > birthday_month or (\n",
    "        today.month == birthday_month and today.day > birthday_day\n",
    "    ):\n",
    "        next_birthday_year += 1\n",
    "\n",
    "    next_birthday = date(next_birthday_year, birthday_month, birthday_day)\n",
    "    delta = next_birthday - today\n",
    "    return delta.days\n",
    "\n",
    "\n",
    "# Example usage (replace with your own birthday)\n",
    "days_left = days_until_next_birthday(10, 25)\n",
    "print(f\"There are {days_left} days until your next birthday.\")\n",
    "\n",
    "\n",
    "## Exercise 3: Parse a date string\n",
    "\n",
    "date_string = \"2023-01-15\"\n",
    "parsed_date = datetime.strptime(date_string, \"%Y-%m-%d\")\n",
    "print(f\"The parsed date is: {parsed_date}\")\n"
   ]
  }
 ],
 "metadata": {
  "kernelspec": {
   "display_name": "Python 3",
   "language": "python",
   "name": "python3"
  },
  "language_info": {
   "name": "python",
   "version": "3.12.10"
  }
 },
 "nbformat": 4,
 "nbformat_minor": 5
}
