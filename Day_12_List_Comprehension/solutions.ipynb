{
 "cells": [
  {
   "cell_type": "markdown",
   "id": "bbb5a4f4",
   "metadata": {},
   "source": [
    "Day 12: Solutions to Exercises"
   ]
  },
  {
   "cell_type": "code",
   "execution_count": null,
   "id": "81053eb2",
   "metadata": {},
   "outputs": [],
   "source": [
    "\n",
    "# --- Exercise 1: Calculate Sales Commissions ---\n",
    "print(\"--- Solution to Exercise 1 ---\")\n",
    "sales = [2500, 8000, 12000, 5500]\n",
    "commission_rate = 0.10\n",
    "\n",
    "# [expression for item in iterable]\n",
    "# The expression is the calculation for each sale.\n",
    "commissions = [sale * commission_rate for sale in sales]\n",
    "\n",
    "print(f\"Original sales: {sales}\")\n",
    "print(f\"Calculated commissions (10%): {commissions}\")\n",
    "print(\"-\" * 20)\n",
    "\n",
    "\n",
    "# --- Exercise 2: Filter Products by Category ---\n",
    "print(\"--- Solution to Exercise 2 ---\")\n",
    "products = [\n",
    "    {\"name\": \"Laptop\", \"category\": \"electronics\"},\n",
    "    {\"name\": \"T-Shirt\", \"category\": \"apparel\"},\n",
    "    {\"name\": \"Keyboard\", \"category\": \"electronics\"},\n",
    "    {\"name\": \"Coffee Mug\", \"category\": \"homeware\"},\n",
    "    {\"name\": \"Webcam\", \"category\": \"electronics\"},\n",
    "]\n",
    "\n",
    "# [expression for item in iterable if condition]\n",
    "# The expression is the product's name.\n",
    "# The condition checks if the product's category is 'electronics'.\n",
    "electronic_products = [\n",
    "    product[\"name\"] for product in products if product[\"category\"] == \"electronics\"\n",
    "]\n",
    "\n",
    "print(f\"All products: {products}\")\n",
    "print(f\"Electronic products only: {electronic_products}\")\n",
    "print(\"-\" * 20)\n",
    "\n",
    "\n",
    "# --- Exercise 3: Format Prices for Display ---\n",
    "print(\"--- Solution to Exercise 3 ---\")\n",
    "prices = [49.99, 199.99, 19.95, 24.50, 12.00]\n",
    "\n",
    "# The expression is an f-string that formats each price.\n",
    "display_prices = [f\"${price:,.2f}\" for price in prices]\n",
    "\n",
    "print(f\"Original prices (float): {prices}\")\n",
    "print(f\"Display prices (string): {display_prices}\")\n",
    "print(\"-\" * 20)\n"
   ]
  }
 ],
 "metadata": {
  "kernelspec": {
   "display_name": "Python 3",
   "language": "python",
   "name": "python3"
  },
  "language_info": {
   "name": "python",
   "version": "3.12.10"
  }
 },
 "nbformat": 4,
 "nbformat_minor": 5
}
