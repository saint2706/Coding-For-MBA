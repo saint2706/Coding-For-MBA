{
 "cells": [
  {
   "cell_type": "markdown",
   "id": "a547b6db",
   "metadata": {},
   "source": [
    "Day 4: Solutions to Exercises"
   ]
  },
  {
   "cell_type": "code",
   "execution_count": null,
   "id": "2e18c55d",
   "metadata": {},
   "outputs": [],
   "source": [
    "\n",
    "# --- Exercise 1: Generate a Report Header ---\n",
    "print(\"--- Solution to Exercise 1 ---\")\n",
    "report_title = \"Quarterly Sales Report\"\n",
    "fiscal_year = 2024\n",
    "\n",
    "# Using .upper() to make the title all caps for emphasis\n",
    "# and an f-string to combine everything.\n",
    "header = f\"*** {report_title.upper()} - FY{fiscal_year} ***\"\n",
    "print(header)\n",
    "print(\"-\" * 20)\n",
    "\n",
    "\n",
    "# --- Exercise 2: Clean Up Customer Data ---\n",
    "print(\"--- Solution to Exercise 2 ---\")\n",
    "customer_name = \"  john doe  \"\n",
    "\n",
    "# .strip() removes the leading/trailing whitespace\n",
    "# .title() capitalizes the first letter of each word\n",
    "cleaned_name = customer_name.strip().title()\n",
    "\n",
    "print(f\"Original name: '{customer_name}'\")\n",
    "print(f\"Cleaned name: '{cleaned_name}'\")\n",
    "print(\"-\" * 20)\n",
    "\n",
    "\n",
    "# --- Exercise 3: Parse Product SKU ---\n",
    "print(\"--- Solution to Exercise 3 ---\")\n",
    "sku = \"PROD-GADGET-001\"\n",
    "\n",
    "# .split('-') breaks the string into a list of substrings,\n",
    "# using the hyphen as the separator.\n",
    "sku_parts = sku.split(\"-\")\n",
    "\n",
    "# We can access the parts of the list by their index.\n",
    "product_type = sku_parts[0]\n",
    "product_name = sku_parts[1]\n",
    "product_id = sku_parts[2]\n",
    "\n",
    "print(f\"Original SKU: {sku}\")\n",
    "print(f\"Product Type: {product_type}\")\n",
    "print(f\"Product Name: {product_name}\")\n",
    "print(f\"Product ID: {product_id}\")\n",
    "print(\"-\" * 20)\n"
   ]
  }
 ],
 "metadata": {
  "kernelspec": {
   "display_name": "Python 3",
   "language": "python",
   "name": "python3"
  },
  "language_info": {
   "name": "python",
   "version": "3.12.10"
  }
 },
 "nbformat": 4,
 "nbformat_minor": 5
}
