{
 "cells": [
  {
   "cell_type": "markdown",
   "metadata": {},
   "source": [
    "# Day 26 \u00b7 Statistics with Interactive Visuals"
   ]
  },
  {
   "cell_type": "markdown",
   "metadata": {},
   "source": [
    "Revisit the statistics helpers from `stats.py` and compare their numerical summaries with new Plotly-powered visualisations. The same dataset used earlier in the course is repurposed here to keep the story consistent."
   ]
  },
  {
   "cell_type": "code",
   "execution_count": null,
   "metadata": {},
   "outputs": [],
   "source": [
    "from pathlib import Path\n",
    "import matplotlib.pyplot as plt\n",
    "import pandas as pd\n",
    "\n",
    "from Day_26_Statistics.stats import (\n",
    "    build_correlation_heatmap,\n",
    "    build_revenue_distribution_chart,\n",
    "    compute_correlations,\n",
    "    load_sales_data,\n",
    ")\n",
    "\n",
    "DATA_PATH = Path('..') / 'Day_24_Pandas_Advanced' / 'sales_data.csv'\n",
    "df = load_sales_data(DATA_PATH)\n",
    "if df.empty:\n",
    "    df = pd.read_csv(DATA_PATH)\n",
    "df.head()"
   ]
  },
  {
   "cell_type": "markdown",
   "metadata": {},
   "source": [
    "## Static checks"
   ]
  },
  {
   "cell_type": "code",
   "execution_count": null,
   "metadata": {},
   "outputs": [],
   "source": [
    "plt.figure(figsize=(8, 4))\n",
    "plt.hist(df['Revenue'], bins=15, color='#636EFA', alpha=0.7)\n",
    "plt.title('Revenue Distribution (Static Histogram)')\n",
    "plt.xlabel('Revenue')\n",
    "plt.ylabel('Frequency')\n",
    "plt.tight_layout()\n",
    "plt.show()"
   ]
  },
  {
   "cell_type": "code",
   "execution_count": null,
   "metadata": {},
   "outputs": [],
   "source": [
    "correlations = compute_correlations(df)\n",
    "fig, ax = plt.subplots(figsize=(6, 4))\n",
    "im = ax.imshow(correlations, cmap='Blues', vmin=-1, vmax=1)\n",
    "ax.set_xticks(range(len(correlations.columns)))\n",
    "ax.set_xticklabels(correlations.columns, rotation=45, ha='right')\n",
    "ax.set_yticks(range(len(correlations.index)))\n",
    "ax.set_yticklabels(correlations.index)\n",
    "ax.set_title('Correlation Heatmap (Static)')\n",
    "fig.colorbar(im, ax=ax, label='Correlation')\n",
    "plt.tight_layout()\n",
    "plt.show()"
   ]
  },
  {
   "cell_type": "markdown",
   "metadata": {},
   "source": [
    "## Interactive counterparts"
   ]
  },
  {
   "cell_type": "code",
   "execution_count": null,
   "metadata": {},
   "outputs": [],
   "source": [
    "interactive_hist = build_revenue_distribution_chart(df)\n",
    "interactive_hist"
   ]
  },
  {
   "cell_type": "code",
   "execution_count": null,
   "metadata": {},
   "outputs": [],
   "source": [
    "interactive_heatmap = build_correlation_heatmap(df)\n",
    "interactive_heatmap"
   ]
  }
 ],
 "metadata": {
  "kernelspec": {
   "display_name": "Python 3",
   "language": "python",
   "name": "python3"
  },
  "language_info": {
   "codemirror_mode": {
    "name": "ipython",
    "version": 3
   },
   "file_extension": ".py",
   "mimetype": "text/x-python",
   "name": "python",
   "nbconvert_exporter": "python",
   "pygments_lexer": "ipython3",
   "version": "3.11"
  }
 },
 "nbformat": 4,
 "nbformat_minor": 5
}