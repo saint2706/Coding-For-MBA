{
 "cells": [
  {
   "cell_type": "markdown",
   "id": "7fb27b941602401d91542211134fc71a",
   "metadata": {},
   "source": [
    "# Day 26 · Statistics with Interactive Visuals"
   ]
  },
  {
   "cell_type": "markdown",
   "id": "acae54e37e7d407bbb7b55eff062a284",
   "metadata": {},
   "source": [
    "Revisit the statistics helpers from `stats.py` and compare their numerical summaries with new Plotly-powered visualisations. The same dataset used earlier in the course is repurposed here to keep the story consistent."
   ]
  },
  {
   "cell_type": "code",
   "execution_count": null,
   "id": "9a63283cbaf04dbcab1f6479b197f3a8",
   "metadata": {},
   "outputs": [],
   "source": [
    "from pathlib import Path\n",
    "import matplotlib.pyplot as plt\n",
    "import pandas as pd\n",
    "\n",
    "from Day_26_Statistics.stats import (\n",
    "    build_correlation_heatmap,\n",
    "    build_revenue_distribution_chart,\n",
    "    compute_correlations,\n",
    "    load_sales_data,\n",
    ")\n",
    "\n",
    "DATA_PATH = Path(\"..\") / \"Day_24_Pandas_Advanced\" / \"sales_data.csv\"\n",
    "df = load_sales_data(DATA_PATH)\n",
    "if df.empty:\n",
    "    df = pd.read_csv(DATA_PATH)\n",
    "df.head()"
   ]
  },
  {
   "cell_type": "markdown",
   "id": "8dd0d8092fe74a7c96281538738b07e2",
   "metadata": {},
   "source": [
    "## Static checks"
   ]
  },
  {
   "cell_type": "code",
   "execution_count": null,
   "id": "72eea5119410473aa328ad9291626812",
   "metadata": {},
   "outputs": [],
   "source": [
    "plt.figure(figsize=(8, 4))\n",
    "plt.hist(df[\"Revenue\"], bins=15, color=\"#636EFA\", alpha=0.7)\n",
    "plt.title(\"Revenue Distribution (Static Histogram)\")\n",
    "plt.xlabel(\"Revenue\")\n",
    "plt.ylabel(\"Frequency\")\n",
    "plt.tight_layout()\n",
    "plt.show()"
   ]
  },
  {
   "cell_type": "code",
   "execution_count": null,
   "id": "8edb47106e1a46a883d545849b8ab81b",
   "metadata": {},
   "outputs": [],
   "source": [
    "correlations = compute_correlations(df)\n",
    "fig, ax = plt.subplots(figsize=(6, 4))\n",
    "im = ax.imshow(correlations, cmap=\"Blues\", vmin=-1, vmax=1)\n",
    "ax.set_xticks(range(len(correlations.columns)))\n",
    "ax.set_xticklabels(correlations.columns, rotation=45, ha=\"right\")\n",
    "ax.set_yticks(range(len(correlations.index)))\n",
    "ax.set_yticklabels(correlations.index)\n",
    "ax.set_title(\"Correlation Heatmap (Static)\")\n",
    "fig.colorbar(im, ax=ax, label=\"Correlation\")\n",
    "plt.tight_layout()\n",
    "plt.show()"
   ]
  },
  {
   "cell_type": "markdown",
   "id": "10185d26023b46108eb7d9f57d49d2b3",
   "metadata": {},
   "source": [
    "## Interactive counterparts"
   ]
  },
  {
   "cell_type": "code",
   "execution_count": null,
   "id": "8763a12b2bbd4a93a75aff182afb95dc",
   "metadata": {},
   "outputs": [],
   "source": [
    "interactive_hist = build_revenue_distribution_chart(df)\n",
    "interactive_hist"
   ]
  },
  {
   "cell_type": "code",
   "execution_count": null,
   "id": "7623eae2785240b9bd12b16a66d81610",
   "metadata": {},
   "outputs": [],
   "source": [
    "interactive_heatmap = build_correlation_heatmap(df)\n",
    "interactive_heatmap"
   ]
  }
 ],
 "metadata": {
  "kernelspec": {
   "display_name": "Python 3",
   "language": "python",
   "name": "python3"
  },
  "language_info": {
   "codemirror_mode": {
    "name": "ipython",
    "version": 3
   },
   "file_extension": ".py",
   "mimetype": "text/x-python",
   "name": "python",
   "nbconvert_exporter": "python",
   "pygments_lexer": "ipython3",
   "version": "3.11"
  }
 },
 "nbformat": 4,
 "nbformat_minor": 5
}