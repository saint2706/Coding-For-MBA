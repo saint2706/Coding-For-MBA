{
 "cells": [
  {
   "cell_type": "markdown",
   "id": "d96f06ed",
   "metadata": {},
   "source": [
    "Day 14: Business Logic Module\n",
    "\n",
    "This file acts as a module containing various reusable functions\n",
    "for common business calculations and validations."
   ]
  },
  {
   "cell_type": "code",
   "execution_count": null,
   "id": "fa166034",
   "metadata": {},
   "outputs": [],
   "source": [
    "\n",
    "\n",
    "def calculate_roi(investment: float, profit: float) -> float:\n",
    "    \"\"\"Calculates the Return on Investment (ROI).\"\"\"\n",
    "    if investment == 0:\n",
    "        return 0\n",
    "    return (profit / investment) * 100\n",
    "\n",
    "\n",
    "def calculate_future_value(principal: float, rate: float, years: int) -> float:\n",
    "    \"\"\"Calculates the future value of an investment with annual compounding.\"\"\"\n",
    "    return principal * ((1 + rate) ** years)\n",
    "\n",
    "\n",
    "def is_eligible_for_promotion(years_of_service: int, performance_rating: int) -> bool:\n",
    "    \"\"\"Checks if an employee is eligible for promotion.\"\"\"\n",
    "    # Rule: Must have > 3 years of service and a performance rating of 4 or 5.\n",
    "    return years_of_service > 3 and performance_rating >= 4\n",
    "\n",
    "\n",
    "def format_as_currency(amount: float) -> str:\n",
    "    \"\"\"Formats a number into a standard currency string.\"\"\"\n",
    "    return f\"${amount:,.2f}\"\n"
   ]
  }
 ],
 "metadata": {
  "kernelspec": {
   "display_name": "Python 3",
   "language": "python",
   "name": "python3"
  },
  "language_info": {
   "name": "python",
   "version": "3.12.10"
  }
 },
 "nbformat": 4,
 "nbformat_minor": 5
}
