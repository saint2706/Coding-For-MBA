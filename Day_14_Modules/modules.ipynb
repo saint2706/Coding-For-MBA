{
 "cells": [
  {
   "cell_type": "markdown",
   "id": "9dd20698",
   "metadata": {},
   "source": [
    "Day 14: Using Modules to Organize Code (Refactored)\n",
    "\n",
    "This script demonstrates how to import and use functions from\n",
    "both custom-built modules and Python's built-in modules."
   ]
  },
  {
   "cell_type": "code",
   "execution_count": null,
   "id": "e64e7ddd",
   "metadata": {},
   "outputs": [],
   "source": [
    "\n",
    "# We are importing the functions we created in the 'business_logic.py' file.\n",
    "# We use an alias 'bl' to keep our code clean and concise.\n",
    "import business_logic as bl\n",
    "import datetime\n",
    "import math\n",
    "\n",
    "\n",
    "def demonstrate_custom_module():\n",
    "    \"\"\"Demonstrates using functions from the custom business_logic module.\"\"\"\n",
    "    print(\"--- Using Custom Business Logic Module ---\")\n",
    "    investment_amount = 50000\n",
    "    profit_amount = 12000\n",
    "    roi = bl.calculate_roi(investment_amount, profit_amount)\n",
    "    print(\n",
    "        f\"A project with an investment of {bl.format_as_currency(investment_amount)} and profit of {bl.format_as_currency(profit_amount)} has an ROI of {roi:.2f}%.\"\n",
    "    )\n",
    "\n",
    "    years = 4\n",
    "    rating = 5\n",
    "    is_eligible = bl.is_eligible_for_promotion(years, rating)\n",
    "    print(\n",
    "        f\"An employee with {years} years of service and a rating of {rating} is eligible for promotion: {is_eligible}\"\n",
    "    )\n",
    "    print(\"-\" * 20)\n",
    "\n",
    "\n",
    "def demonstrate_builtin_modules():\n",
    "    \"\"\"Demonstrates using Python's built-in datetime and math modules.\"\"\"\n",
    "    print(\"--- Using Built-in 'datetime' and 'math' Modules ---\")\n",
    "    current_datetime = datetime.datetime.now()\n",
    "    print(f\"Current Date and Time: {current_datetime}\")\n",
    "    print(f\"Current Year: {current_datetime.year}\")\n",
    "    print()\n",
    "\n",
    "    marketing_budget = 100000\n",
    "    growth_factor = math.sqrt(marketing_budget)\n",
    "    print(\n",
    "        f\"The growth factor for a marketing budget of {bl.format_as_currency(marketing_budget)} is {growth_factor:.2f}.\"\n",
    "    )\n",
    "    print(\"-\" * 20)\n",
    "\n",
    "\n",
    "def main():\n",
    "    \"\"\"Main function to demonstrate module usage.\"\"\"\n",
    "    demonstrate_custom_module()\n",
    "    demonstrate_builtin_modules()\n",
    "\n",
    "\n",
    "if __name__ == \"__main__\":\n",
    "    main()\n"
   ]
  }
 ],
 "metadata": {
  "kernelspec": {
   "display_name": "Python 3",
   "language": "python",
   "name": "python3"
  },
  "language_info": {
   "name": "python",
   "version": "3.12.10"
  }
 },
 "nbformat": 4,
 "nbformat_minor": 5
}
