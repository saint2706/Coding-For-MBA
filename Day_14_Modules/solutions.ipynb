{
 "cells": [
  {
   "cell_type": "markdown",
   "id": "5fd4ea28",
   "metadata": {},
   "source": [
    "Day 14: Solutions to Exercises."
   ]
  },
  {
   "cell_type": "code",
   "execution_count": null,
   "id": "eb553481",
   "metadata": {},
   "outputs": [],
   "source": [
    "\n",
    "import datetime\n",
    "import math\n",
    "\n",
    "import finance_tools as ft\n",
    "\n",
    "\n",
    "# --- Exercise 1: Create a Finance Module ---\n",
    "print(\"--- Solution to Exercise 1 ---\")\n",
    "\n",
    "# --- Call functions from the module ---\n",
    "investment = 150000\n",
    "profit = 25000\n",
    "roi = ft.calculate_roi(investment, profit)\n",
    "print(\n",
    "    f\"ROI for a ${investment:,.2f} investment with ${profit:,.2f} profit is: {roi:.2f}%\"\n",
    ")\n",
    "\n",
    "principal = 10000\n",
    "rate = 0.05\n",
    "years = 10\n",
    "future_value = ft.calculate_future_value(principal, rate, years)\n",
    "print(\n",
    "    f\"Future value of ${principal:,.2f} after {years} years at a {rate * 100}% rate is: ${future_value:,.2f}\"\n",
    ")\n",
    "print(\"-\" * 20)\n",
    "\n",
    "\n",
    "# --- Exercise 2: Use the `datetime` Module ---\n",
    "print(\"--- Solution to Exercise 2 ---\")\n",
    "# import the module\n",
    "\n",
    "# Get the current date and time\n",
    "now = datetime.datetime.now()\n",
    "\n",
    "print(f\"Current full date and time: {now}\")\n",
    "print(f\"Current date only: {now.date()}\")\n",
    "print(f\"Current year: {now.year}\")\n",
    "print(f\"Current month: {now.month}\")\n",
    "print(f\"Current day: {now.day}\")\n",
    "print(\"-\" * 20)\n",
    "\n",
    "\n",
    "# --- Exercise 3: Use the `math` Module ---\n",
    "print(\"--- Solution to Exercise 3 ---\")\n",
    "# import the module\n",
    "\n",
    "marketing_budget = 100000\n",
    "# Use the sqrt function from the math module\n",
    "growth_factor = math.sqrt(marketing_budget)\n",
    "\n",
    "print(\n",
    "    f\"The growth factor for a marketing budget of ${marketing_budget:,.2f} is {growth_factor:.2f}.\"\n",
    ")\n",
    "print(\"-\" * 20)\n"
   ]
  }
 ],
 "metadata": {
  "kernelspec": {
   "display_name": "Python 3",
   "language": "python",
   "name": "python3"
  },
  "language_info": {
   "name": "python",
   "version": "3.12.10"
  }
 },
 "nbformat": 4,
 "nbformat_minor": 5
}
