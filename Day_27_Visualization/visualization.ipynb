{
  "cells": [
    {
      "cell_type": "markdown",
      "metadata": {},
      "source": [
        "# Day 27 Visualization Walkthrough"
      ]
    },
    {
      "cell_type": "markdown",
      "metadata": {},
      "source": [
        "This notebook demonstrates the reusable plotting functions introduced in `visualization.py` and summarises how to interpret the resulting charts."
      ]
    },
    {
      "cell_type": "markdown",
      "metadata": {},
      "source": [
        "## 1. Import helpers and load the dataset",
        "\n",
        "The helper functions encapsulate the Matplotlib/Seaborn configuration used in the lesson scripts."
      ]
    },
    {
      "cell_type": "code",
      "execution_count": null,
      "metadata": {},
      "outputs": [],
      "source": [
        "from Day_27_Visualization.visualization import (\n",
        "    load_sales_data,\n",
        "    build_revenue_by_region_plot,\n",
        "    build_daily_revenue_plot,\n",
        "    build_units_sold_distribution_plot,\n",
        "    build_price_vs_units_sold_plot,\n",
        ")\n",
        "\n",
        "sales_df = load_sales_data()\n",
        "sales_df.head()"
      ]
    },
    {
      "cell_type": "markdown",
      "metadata": {},
      "source": [
        "If the dataset cannot be located, ensure `sales_data.csv` from Day 24 resides in the Day 27 directory or adjust `load_sales_data` to point to the correct path."
      ]
    },
    {
      "cell_type": "markdown",
      "metadata": {},
      "source": [
        "## 2. Visualise core business questions",
        "\n",
        "Each section reuses the pure functions so the same logic powers both the script and this notebook."
      ]
    },
    {
      "cell_type": "markdown",
      "metadata": {},
      "source": [
        "### Revenue by Region",
        "\n",
        "We aggregate revenue by sales region to understand geographic performance."
      ]
    },
    {
      "cell_type": "code",
      "execution_count": null,
      "metadata": {},
      "outputs": [],
      "source": [
        "if sales_df.empty:\n",
        "    raise RuntimeError(\"Sales dataset not available for plotting.\")\n",
        "\n",
        "build_revenue_by_region_plot(sales_df)"
      ]
    },
    {
      "cell_type": "markdown",
      "metadata": {},
      "source": [
        "### Daily Revenue Trend",
        "\n",
        "Tracking total revenue by day highlights seasonality and the impact of campaigns."
      ]
    },
    {
      "cell_type": "code",
      "execution_count": null,
      "metadata": {},
      "outputs": [],
      "source": [
        "build_daily_revenue_plot(sales_df)"
      ]
    },
    {
      "cell_type": "markdown",
      "metadata": {},
      "source": [
        "### Units Sold Distribution",
        "\n",
        "A histogram reveals the spread of transaction sizes and potential outliers."
      ]
    },
    {
      "cell_type": "code",
      "execution_count": null,
      "metadata": {},
      "outputs": [],
      "source": [
        "build_units_sold_distribution_plot(sales_df)"
      ]
    },
    {
      "cell_type": "markdown",
      "metadata": {},
      "source": [
        "### Price vs. Units Sold",
        "\n",
        "The scatter plot pairs pricing with units sold to surface product-level dynamics."
      ]
    },
    {
      "cell_type": "code",
      "execution_count": null,
      "metadata": {},
      "outputs": [],
      "source": [
        "build_price_vs_units_sold_plot(sales_df)"
      ]
    },
    {
      "cell_type": "markdown",
      "metadata": {},
      "source": [
        "## 3. Interpretation checklist",
        "\n",
        "1. **Compare magnitudes:** The bar chart pinpoints high performing regions.\n",
        "2. **Spot temporal patterns:** The line chart highlights spikes or dips that merit investigation.\n",
        "3. **Assess distribution:** The histogram uncovers whether most orders cluster around a typical size.\n",
        "4. **Diagnose relationships:** The scatter plot shows whether price changes influence demand across products."
      ]
    }
  ],
  "metadata": {
    "kernelspec": {
      "display_name": "Python 3",
      "language": "python",
      "name": "python3"
    },
    "language_info": {
      "name": "python",
      "version": "3.11"
    }
  },
  "nbformat": 4,
  "nbformat_minor": 5
}