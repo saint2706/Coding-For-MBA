{
 "cells": [
  {
   "cell_type": "markdown",
   "metadata": {},
   "source": [
    "# 📈 Day 27: Interactive Business Visualizations with Plotly\n",
    "\n",
    "This notebook demonstrates how to create interactive business charts using the **Plotly** library. Interactive charts are highly effective for exploratory data analysis, allowing you to hover over data points to see details, zoom into specific regions, and more."
   ]
  },
  {
   "cell_type": "markdown",
   "metadata": {},
   "source": [
    "## 1. Setup and Data Loading\n",
    "\n",
    "First, we'll import the necessary libraries and load the cleaned sales data. Ensure the `sales_data.csv` file is in the same directory as this notebook."
   ]
  },
  {
   "cell_type": "code",
   "execution_count": null,
   "metadata": {},
   "outputs": [],
   "source": [
    "from IPython.display import display\n",
    "import pandas as pd\n",
    "import plotly.express as px\n",
    "from pathlib import Path\n",
    "\n",
    "# --- Load and Prepare Data ---\n",
    "data_path = Path(\"sales_data.csv\")\n",
    "\n",
    "if data_path.exists():\n",
    "    df = pd.read_csv(data_path, parse_dates=[\"Date\"])\n",
    "    df.dropna(inplace=True)  # Drop rows with missing values for simplicity\n",
    "    print(\"Data loaded successfully.\")\n",
    "    display(df.head())\n",
    "else:\n",
    "    print(\n",
    "        \"Error: sales_data.csv not found. Please ensure the file is in the Day_27_Visualization directory.\"\n",
    "    )\n",
    "    df = pd.DataFrame()  # Create an empty dataframe to avoid errors"
   ]
  },
  {
   "cell_type": "markdown",
   "metadata": {},
   "source": [
    "## 2. Interactive Line Chart: Revenue Over Time\n",
    "\n",
    "A line chart is perfect for visualizing trends over time. With Plotly, you can easily create a line chart that allows you to see the exact revenue for any given day by hovering over the line.\n",
    "\n",
    "First, we need to aggregate the data to get the total daily revenue."
   ]
  },
  {
   "cell_type": "code",
   "execution_count": null,
   "metadata": {},
   "outputs": [],
   "source": [
    "if not df.empty:\n",
    "    # We group by date to ensure one data point per day\n",
    "    daily_revenue = df.groupby(\"Date\")[\"Revenue\"].sum().reset_index()\n",
    "\n",
    "    # Create the interactive line chart\n",
    "    fig = px.line(\n",
    "        daily_revenue,\n",
    "        x=\"Date\",\n",
    "        y=\"Revenue\",\n",
    "        title=\"Daily Revenue Trend\",\n",
    "        labels={\"Date\": \"Date\", \"Revenue\": \"Total Revenue ($)\"},\n",
    "    )\n",
    "\n",
    "    # Show the plot\n",
    "    fig.show()"
   ]
  },
  {
   "cell_type": "markdown",
   "metadata": {},
   "source": [
    "## 3. Interactive Bar Chart: Sales by Region\n",
    "\n",
    "Bar charts are excellent for comparing totals across different categories. Here, we'll create an interactive bar chart to compare the total revenue generated from each region. You can hover over each bar to see the exact revenue figure."
   ]
  },
  {
   "cell_type": "code",
   "execution_count": null,
   "metadata": {},
   "outputs": [],
   "source": [
    "if not df.empty:\n",
    "    # No need to group here, Plotly Express can do the aggregation for us\n",
    "    fig = px.bar(\n",
    "        df,\n",
    "        x=\"Region\",\n",
    "        y=\"Revenue\",\n",
    "        title=\"Total Revenue by Region\",\n",
    "        labels={\"Region\": \"Region\", \"Revenue\": \"Total Revenue ($)\"},\n",
    "        barmode=\"group\",\n",
    "        text_auto=\".2s\",  # Format text on bars\n",
    "    )\n",
    "\n",
    "    # Update layout for better readability\n",
    "    fig.update_traces(\n",
    "        textfont_size=12, textangle=0, textposition=\"outside\", cliponaxis=False\n",
    "    )\n",
    "\n",
    "    # Show the plot\n",
    "    fig.show()"
   ]
  }
 ],
 "metadata": {
  "kernelspec": {
   "display_name": "Python 3",
   "language": "python",
   "name": "python3"
  },
  "language_info": {
   "name": "python",
   "version": "3.10.12"
  }
 },
 "nbformat": 4,
 "nbformat_minor": 4
}
