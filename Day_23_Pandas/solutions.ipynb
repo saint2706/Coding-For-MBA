{
 "cells": [
  {
   "cell_type": "markdown",
   "id": "6f6b0993",
   "metadata": {},
   "source": [
    "Day 23: Solutions to Exercises"
   ]
  },
  {
   "cell_type": "code",
   "execution_count": null,
   "id": "51ff29b2",
   "metadata": {},
   "outputs": [],
   "source": [
    "\n",
    "import pandas as pd\n",
    "\n",
    "# --- Exercise 1: Create an Employee DataFrame ---\n",
    "print(\"--- Solution to Exercise 1 ---\")\n",
    "employee_data = {\n",
    "    \"Name\": [\"Alice\", \"Bob\", \"Charlie\", \"Diana\"],\n",
    "    \"Department\": [\"Sales\", \"Engineering\", \"Marketing\", \"Sales\"],\n",
    "    \"Salary\": [80000, 120000, 95000, 85000],\n",
    "}\n",
    "\n",
    "employee_df = pd.DataFrame(employee_data)\n",
    "\n",
    "print(\"Employee DataFrame (employee_df.head()):\")\n",
    "print(employee_df.head())\n",
    "print()\n",
    "print(\"Employee DataFrame Info (employee_df.info()):\")\n",
    "employee_df.info()\n",
    "print(\"-\" * 20)\n",
    "\n",
    "\n",
    "# --- Exercise 2: Analyze Sales Data ---\n",
    "print(\"--- Solution to Exercise 2 ---\")\n",
    "# First, let's create the DataFrame from the lesson to work with\n",
    "sales_data = {\n",
    "    \"Product Name\": [\"Laptop\", \"Mouse\", \"Keyboard\", \"Monitor\"],\n",
    "    \"Category\": [\"Electronics\", \"Electronics\", \"Electronics\", \"Electronics\"],\n",
    "    \"Price\": [1200, 25, 75, 300],\n",
    "    \"Units Sold\": [150, 300, 220, 180],\n",
    "}\n",
    "df = pd.DataFrame(sales_data)\n",
    "\n",
    "# Select and print the 'Product Name' column\n",
    "print(\"Product Name column:\")\n",
    "print(df[\"Product Name\"])\n",
    "print()\n",
    "\n",
    "# Select and print 'Product Name' and 'Units Sold'\n",
    "print(\"Product Name and Units Sold columns:\")\n",
    "print(df[[\"Product Name\", \"Units Sold\"]])\n",
    "print()\n",
    "\n",
    "# Use .describe() for a statistical summary\n",
    "print(\"Statistical summary of numerical columns:\")\n",
    "print(df.describe())\n",
    "print(\"-\" * 20)\n",
    "\n",
    "\n",
    "# --- Exercise 3: Calculate a New Column ---\n",
    "print(\"--- Solution to Exercise 3 ---\")\n",
    "# We use the same df from the previous exercise\n",
    "\n",
    "# Create the 'Revenue' column\n",
    "df[\"Revenue\"] = df[\"Price\"] * df[\"Units Sold\"]\n",
    "\n",
    "print(\"DataFrame with new 'Revenue' column (df.head()):\")\n",
    "print(df.head())\n",
    "print(\"-\" * 20)\n"
   ]
  }
 ],
 "metadata": {
  "kernelspec": {
   "display_name": "Python 3",
   "language": "python",
   "name": "python3"
  },
  "language_info": {
   "name": "python",
   "version": "3.12.10"
  }
 },
 "nbformat": 4,
 "nbformat_minor": 5
}
