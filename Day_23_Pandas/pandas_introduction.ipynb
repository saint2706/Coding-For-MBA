{
 "cells": [
  {
   "cell_type": "markdown",
   "metadata": {},
   "source": [
    "# 📘 Day 23: Introduction to Pandas\n",
    "\n",
    "Welcome to Pandas! Pandas is the most popular Python library for data manipulation and analysis. It provides data structures and functions needed to work with structured data seamlessly.\n",
    "\n",
    "The primary data structure in Pandas is the **DataFrame**, which is like a spreadsheet or a SQL table. It's a two-dimensional labeled data structure with columns of potentially different types."
   ]
  },
  {
   "cell_type": "markdown",
   "metadata": {},
   "source": [
    "## 1. Creating a DataFrame\n",
    "\n",
    "A common way to create a DataFrame from scratch is by using a Python dictionary. The keys of the dictionary become the column names, and the lists of values become the data in those columns."
   ]
  },
  {
   "cell_type": "code",
   "execution_count": null,
   "metadata": {},
   "outputs": [],
   "source": [
    "# The standard convention for importing pandas is to use the alias 'pd'\n",
    "import pandas as pd\n",
    "import plotly.express as px\n",
    "\n",
    "data = {\n",
    "    \"Product Name\": [\"Laptop\", \"Mouse\", \"Keyboard\", \"Monitor\", \"Webcam\"],\n",
    "    \"Category\": [\n",
    "        \"Electronics\",\n",
    "        \"Electronics\",\n",
    "        \"Electronics\",\n",
    "        \"Electronics\",\n",
    "        \"Peripherals\",\n",
    "    ],\n",
    "    \"Price\": [1200, 25, 75, 300, 50],\n",
    "    \"Units Sold\": [150, 300, 220, 180, 250],\n",
    "}\n",
    "\n",
    "# Create the DataFrame\n",
    "df = pd.DataFrame(data)\n",
    "\n",
    "# Display the DataFrame. In a notebook, this provides a nice HTML table.\n",
    "display(df)"
   ]
  },
  {
   "cell_type": "markdown",
   "metadata": {},
   "source": [
    "## 2. Inspecting the DataFrame\n",
    "\n",
    "These are the first commands you should run after creating or loading a DataFrame to understand its structure and content."
   ]
  },
  {
   "cell_type": "markdown",
   "metadata": {},
   "source": [
    "### `.head()`\n",
    "The `.head()` method shows the first few rows of the DataFrame (5 by default). It's great for getting a quick snapshot of your data."
   ]
  },
  {
   "cell_type": "code",
   "execution_count": null,
   "metadata": {},
   "outputs": [],
   "source": [
    "df.head()"
   ]
  },
  {
   "cell_type": "markdown",
   "metadata": {},
   "source": [
    "### `.info()`\n",
    "The `.info()` method provides a concise summary of the DataFrame's structure, including the index type, column types, non-null values, and memory usage."
   ]
  },
  {
   "cell_type": "code",
   "execution_count": null,
   "metadata": {},
   "outputs": [],
   "source": [
    "df.info()"
   ]
  },
  {
   "cell_type": "markdown",
   "metadata": {},
   "source": [
    "### `.describe()`\n",
    "The `.describe()` method generates descriptive statistics for the numerical columns, such as count, mean, standard deviation, min, and max."
   ]
  },
  {
   "cell_type": "code",
   "execution_count": null,
   "metadata": {},
   "outputs": [],
   "source": [
    "df.describe()"
   ]
  },
  {
   "cell_type": "markdown",
   "metadata": {},
   "source": [
    "## 3. Selecting Columns\n",
    "\n",
    "You can select columns from a DataFrame to work with specific subsets of your data."
   ]
  },
  {
   "cell_type": "markdown",
   "metadata": {},
   "source": [
    "### Selecting a Single Column\n",
    "To select a single column, use its name in square brackets. This returns a Pandas **Series**, which is like a single column of a DataFrame."
   ]
  },
  {
   "cell_type": "code",
   "execution_count": null,
   "metadata": {},
   "outputs": [],
   "source": [
    "price_column = df[\"Price\"]\n",
    "display(price_column)"
   ]
  },
  {
   "cell_type": "markdown",
   "metadata": {},
   "source": [
    "### Selecting Multiple Columns\n",
    "To select multiple columns, pass a list of column names inside the square brackets. This returns a new, smaller DataFrame."
   ]
  },
  {
   "cell_type": "code",
   "execution_count": null,
   "metadata": {},
   "outputs": [],
   "source": [
    "product_and_sales = df[[\"Product Name\", \"Units Sold\"]]\n",
    "display(product_and_sales)"
   ]
  },
  {
   "cell_type": "markdown",
   "metadata": {},
   "source": [
    "## 4. Creating a New Column (Vectorized Operation)\n",
    "\n",
    "One of the most powerful features of Pandas is **vectorization**. You can perform operations on entire columns at once without writing a loop. Here, we create a new 'Revenue' column by multiplying the 'Price' and 'Units Sold' columns."
   ]
  },
  {
   "cell_type": "code",
   "execution_count": null,
   "metadata": {},
   "outputs": [],
   "source": [
    "df[\"Revenue\"] = df[\"Price\"] * df[\"Units Sold\"]\n",
    "display(df.head())"
   ]
  },
  {
   "cell_type": "markdown",
   "metadata": {},
   "source": [
    "## 5. Visualization\n",
    "\n",
    "Now that we have a 'Revenue' column, we can easily create an interactive chart to visualize it. Here, we use Plotly Express to create a bar chart showing the revenue generated by each product."
   ]
  },
  {
   "cell_type": "code",
   "execution_count": null,
   "metadata": {},
   "outputs": [],
   "source": [
    "fig = px.bar(df, \n",
    "             x='Product Name', \n",
    "             y='Revenue', \n",
    "             title='Total Revenue by Product',\n",
    "             labels={'Product Name': 'Product', 'Revenue': 'Total Revenue ($)'},\n",
    "             color='Category',\n",
    "             text_auto='.2s')\n",
    "\n",
    "fig.show()"
   ]
  }
 ],
 "metadata": {
  "kernelspec": {
   "display_name": "Python 3",
   "language": "python",
   "name": "python3"
  },
  "language_info": {
   "name": "python",
   "version": "3.10.12"
  }
 },
 "nbformat": 4,
 "nbformat_minor": 4
}