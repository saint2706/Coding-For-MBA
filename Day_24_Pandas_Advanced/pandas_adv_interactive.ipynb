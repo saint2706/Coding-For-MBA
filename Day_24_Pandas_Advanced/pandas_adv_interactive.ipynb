{
 "cells": [
  {
   "cell_type": "markdown",
   "metadata": {},
   "source": [
    "# Day 24 · Static vs. Interactive Visuals"
   ]
  },
  {
   "cell_type": "markdown",
   "metadata": {},
   "source": [
    "This notebook complements the refactored `pandas_adv.py` module. It contrasts a quick Matplotlib chart with the new Plotly helpers so you can experiment with both static and interactive views of the same sales dataset."
   ]
  },
  {
   "cell_type": "code",
   "execution_count": null,
   "metadata": {},
   "outputs": [],
   "source": [
    "from pathlib import Path\n",
    "import matplotlib.pyplot as plt\n",
    "import pandas as pd\n",
    "\n",
    "from Day_24_Pandas_Advanced.pandas_adv import (\n",
    "    build_revenue_by_region_bar_chart,\n",
    "    build_units_vs_price_scatter,\n",
    "    load_sales_data,\n",
    ")\n",
    "\n",
    "DATA_PATH = Path('sales_data.csv')\n",
    "df = load_sales_data(str(DATA_PATH))\n",
    "if df is None:\n",
    "    df = pd.read_csv(DATA_PATH)\n",
    "df.head()"
   ]
  },
  {
   "cell_type": "markdown",
   "metadata": {},
   "source": [
    "## Static baseline"
   ]
  },
  {
   "cell_type": "code",
   "execution_count": null,
   "metadata": {},
   "outputs": [],
   "source": [
    "plt.style.use('ggplot')\n",
    "regional_revenue = df.groupby('Region')['Revenue'].sum().sort_values(ascending=False)\n",
    "ax = regional_revenue.plot(kind='bar', figsize=(8, 4), title='Revenue by Region (Static)')\n",
    "ax.set_ylabel('Total revenue')\n",
    "plt.tight_layout()\n",
    "plt.show()"
   ]
  },
  {
   "cell_type": "markdown",
   "metadata": {},
   "source": [
    "## Interactive upgrades"
   ]
  },
  {
   "cell_type": "code",
   "execution_count": null,
   "metadata": {},
   "outputs": [],
   "source": [
    "fig = build_revenue_by_region_bar_chart(df)\n",
    "fig"
   ]
  },
  {
   "cell_type": "code",
   "execution_count": null,
   "metadata": {},
   "outputs": [],
   "source": [
    "scatter = build_units_vs_price_scatter(df)\n",
    "scatter"
   ]
  }
 ],
 "metadata": {
  "kernelspec": {
   "display_name": "Python 3",
   "language": "python",
   "name": "python3"
  },
  "language_info": {
   "codemirror_mode": {
    "name": "ipython",
    "version": 3
   },
   "file_extension": ".py",
   "mimetype": "text/x-python",
   "name": "python",
   "nbconvert_exporter": "python",
   "pygments_lexer": "ipython3",
   "version": "3.11"
  }
 },
 "nbformat": 4,
 "nbformat_minor": 5
}
