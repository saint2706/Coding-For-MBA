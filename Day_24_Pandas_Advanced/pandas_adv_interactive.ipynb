{
 "cells": [
  {
   "cell_type": "markdown",
   "id": "7fb27b941602401d91542211134fc71a",
   "metadata": {},
   "source": [
    "# Day 24 · Static vs. Interactive Visuals"
   ]
  },
  {
   "cell_type": "markdown",
   "id": "acae54e37e7d407bbb7b55eff062a284",
   "metadata": {},
   "source": [
    "This notebook complements the refactored `pandas_adv.py` module. It contrasts a quick Matplotlib chart with the new Plotly helpers so you can experiment with both static and interactive views of the same sales dataset."
   ]
  },
  {
   "cell_type": "code",
   "execution_count": null,
   "id": "9a63283cbaf04dbcab1f6479b197f3a8",
   "metadata": {},
   "outputs": [],
   "source": [
    "from pathlib import Path\n",
    "import matplotlib.pyplot as plt\n",
    "import pandas as pd\n",
    "\n",
    "from Day_24_Pandas_Advanced.pandas_adv import (\n",
    "    build_revenue_by_region_bar_chart,\n",
    "    build_units_vs_price_scatter,\n",
    "    load_sales_data,\n",
    ")\n",
    "\n",
    "DATA_PATH = Path(\"sales_data.csv\")\n",
    "df = load_sales_data(str(DATA_PATH))\n",
    "if df is None:\n",
    "    df = pd.read_csv(DATA_PATH)\n",
    "df.head()"
   ]
  },
  {
   "cell_type": "markdown",
   "id": "8dd0d8092fe74a7c96281538738b07e2",
   "metadata": {},
   "source": [
    "## Static baseline"
   ]
  },
  {
   "cell_type": "code",
   "execution_count": null,
   "id": "72eea5119410473aa328ad9291626812",
   "metadata": {},
   "outputs": [],
   "source": [
    "plt.style.use(\"ggplot\")\n",
    "regional_revenue = df.groupby(\"Region\")[\"Revenue\"].sum().sort_values(ascending=False)\n",
    "ax = regional_revenue.plot(\n",
    "    kind=\"bar\", figsize=(8, 4), title=\"Revenue by Region (Static)\"\n",
    ")\n",
    "ax.set_ylabel(\"Total revenue\")\n",
    "plt.tight_layout()\n",
    "plt.show()"
   ]
  },
  {
   "cell_type": "markdown",
   "id": "8edb47106e1a46a883d545849b8ab81b",
   "metadata": {},
   "source": [
    "## Interactive upgrades"
   ]
  },
  {
   "cell_type": "code",
   "execution_count": null,
   "id": "10185d26023b46108eb7d9f57d49d2b3",
   "metadata": {},
   "outputs": [],
   "source": [
    "fig = build_revenue_by_region_bar_chart(df)\n",
    "fig"
   ]
  },
  {
   "cell_type": "code",
   "execution_count": null,
   "id": "8763a12b2bbd4a93a75aff182afb95dc",
   "metadata": {},
   "outputs": [],
   "source": [
    "scatter = build_units_vs_price_scatter(df)\n",
    "scatter"
   ]
  }
 ],
 "metadata": {
  "kernelspec": {
   "display_name": "Python 3",
   "language": "python",
   "name": "python3"
  },
  "language_info": {
   "codemirror_mode": {
    "name": "ipython",
    "version": 3
   },
   "file_extension": ".py",
   "mimetype": "text/x-python",
   "name": "python",
   "nbconvert_exporter": "python",
   "pygments_lexer": "ipython3",
   "version": "3.11"
  }
 },
 "nbformat": 4,
 "nbformat_minor": 5
}
