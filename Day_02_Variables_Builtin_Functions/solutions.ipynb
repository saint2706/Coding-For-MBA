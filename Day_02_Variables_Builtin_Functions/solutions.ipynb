{
 "cells": [
  {
   "cell_type": "markdown",
   "id": "fd1aff43",
   "metadata": {},
   "source": [
    "Day 2: Solutions to Exercises"
   ]
  },
  {
   "cell_type": "code",
   "execution_count": null,
   "id": "489a2e0d",
   "metadata": {},
   "outputs": [],
   "source": [
    "\n",
    "# --- Exercise 1: Company Profile Variables ---\n",
    "print(\"--- Solution to Exercise 1 ---\")\n",
    "company_name = \"InnovateCorp\"\n",
    "year_founded = 2015\n",
    "current_revenue = 2500000.50\n",
    "is_publicly_traded = False\n",
    "\n",
    "print(f\"Company Name: {company_name}\")\n",
    "print(f\"Year Founded: {year_founded}\")\n",
    "print(f\"Current Revenue: ${current_revenue}\")\n",
    "print(f\"Is Publicly Traded: {is_publicly_traded}\")\n",
    "print(\"-\" * 20)\n",
    "\n",
    "\n",
    "# --- Exercise 2: Sales Analysis ---\n",
    "print(\"--- Solution to Exercise 2 ---\")\n",
    "weekly_sales = [150.50, 200.00, 75.25, 300.75, 120.00]\n",
    "print(f\"Sales data: {weekly_sales}\")\n",
    "\n",
    "# The total number of sales transactions\n",
    "num_transactions = len(weekly_sales)\n",
    "print(f\"Total number of transactions: {num_transactions}\")\n",
    "\n",
    "# The total revenue for the week\n",
    "total_revenue = sum(weekly_sales)\n",
    "print(f\"Total revenue: ${total_revenue:.2f}\")\n",
    "\n",
    "# The smallest sale\n",
    "min_sale = min(weekly_sales)\n",
    "print(f\"Smallest sale: ${min_sale:.2f}\")\n",
    "\n",
    "# The largest sale\n",
    "max_sale = max(weekly_sales)\n",
    "print(f\"Largest sale: ${max_sale:.2f}\")\n",
    "\n",
    "# The average sale amount\n",
    "average_sale = total_revenue / num_transactions\n",
    "print(f\"Average sale amount: ${average_sale:.2f}\")\n",
    "print(\"-\" * 20)\n",
    "\n",
    "\n",
    "# --- Exercise 3: User Input for a Profit Calculator ---\n",
    "print(\"--- Solution to Exercise 3 ---\")\n",
    "# Note: To run this interactively, you would run the python file\n",
    "# in your terminal. The input() function will pause the script\n",
    "# and wait for you to type a value and press Enter.\n",
    "\n",
    "# We wrap the code in a try...except block to handle cases where the user\n",
    "# might enter text instead of a number, which would cause a crash.\n",
    "try:\n",
    "    # float() converts the string from input() into a floating-point number\n",
    "    revenue_input = float(input(\"Enter total revenue: \"))\n",
    "    expenses_input = float(input(\"Enter total expenses: \"))\n",
    "\n",
    "    profit = revenue_input - expenses_input\n",
    "    print(f\"Calculated Profit: ${profit:.2f}\")\n",
    "\n",
    "except ValueError:\n",
    "    print(\"Invalid input. Please make sure to enter numbers only.\")\n",
    "\n",
    "print(\"-\" * 20)\n"
   ]
  }
 ],
 "metadata": {
  "kernelspec": {
   "display_name": "Python 3",
   "language": "python",
   "name": "python3"
  },
  "language_info": {
   "name": "python",
   "version": "3.12.10"
  }
 },
 "nbformat": 4,
 "nbformat_minor": 5
}
