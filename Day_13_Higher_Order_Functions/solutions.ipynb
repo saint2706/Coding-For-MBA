{
 "cells": [
  {
   "cell_type": "markdown",
   "id": "bfa86197",
   "metadata": {},
   "source": [
    "Day 13: Solutions to Exercises"
   ]
  },
  {
   "cell_type": "code",
   "execution_count": null,
   "id": "caea99e1",
   "metadata": {},
   "outputs": [],
   "source": [
    "\n",
    "# --- Exercise 1: Standardize Department Names ---\n",
    "print(\"--- Solution to Exercise 1 ---\")\n",
    "departments = [\"Sales\", \" marketing \", \"  Engineering\", \"HR  \"]\n",
    "print(f\"Original list: {departments}\")\n",
    "\n",
    "# The lambda function x.strip().lower() is applied to each item in the list.\n",
    "# .strip() removes whitespace, .lower() converts to lowercase.\n",
    "cleaned_departments = list(map(lambda x: x.strip().lower(), departments))\n",
    "\n",
    "print(f\"Cleaned list: {cleaned_departments}\")\n",
    "print(\"-\" * 20)\n",
    "\n",
    "\n",
    "# --- Exercise 2: Filter Active Subscriptions ---\n",
    "print(\"--- Solution to Exercise 2 ---\")\n",
    "customers = [\n",
    "    {\"id\": 1, \"status\": \"active\"},\n",
    "    {\"id\": 2, \"status\": \"inactive\"},\n",
    "    {\"id\": 3, \"status\": \"active\"},\n",
    "    {\"id\": 4, \"status\": \"cancelled\"},\n",
    "]\n",
    "print(f\"Original customers: {customers}\")\n",
    "\n",
    "# The lambda function returns True only if the customer's status is 'active'.\n",
    "# filter() keeps only the items for which the lambda returns True.\n",
    "active_customers = list(filter(lambda c: c[\"status\"] == \"active\", customers))\n",
    "\n",
    "print(f\"Active customers only: {active_customers}\")\n",
    "print(\"-\" * 20)\n",
    "\n",
    "\n",
    "# --- Exercise 3: Sort Complex Data ---\n",
    "print(\"--- Solution to Exercise 3 ---\")\n",
    "products = [\n",
    "    {\"name\": \"Laptop\", \"price\": 1200},\n",
    "    {\"name\": \"Mouse\", \"price\": 25},\n",
    "    {\"name\": \"Keyboard\", \"price\": 75},\n",
    "    {\"name\": \"Monitor\", \"price\": 300},\n",
    "]\n",
    "print(f\"Original product list: {products}\")\n",
    "\n",
    "# The 'key' argument of sorted() tells it what to base the sort on.\n",
    "# The lambda function tells sorted() to look at the value associated\n",
    "# with the 'price' key in each dictionary.\n",
    "sorted_products = sorted(products, key=lambda p: p[\"price\"])\n",
    "\n",
    "print(f\"Products sorted by price: {sorted_products}\")\n",
    "print(\"-\" * 20)\n"
   ]
  }
 ],
 "metadata": {
  "kernelspec": {
   "display_name": "Python 3",
   "language": "python",
   "name": "python3"
  },
  "language_info": {
   "name": "python",
   "version": "3.12.10"
  }
 },
 "nbformat": 4,
 "nbformat_minor": 5
}
