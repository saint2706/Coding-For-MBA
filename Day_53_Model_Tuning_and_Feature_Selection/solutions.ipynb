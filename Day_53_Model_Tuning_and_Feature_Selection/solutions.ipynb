{
 "cells": [
  {
   "cell_type": "markdown",
   "id": "0355bf90",
   "metadata": {},
   "source": [
    "# Day 53 – Model Tuning and Feature Selection"
   ]
  },
  {
   "cell_type": "markdown",
   "id": "5b2ba776",
   "metadata": {},
   "source": [
    "This notebook demonstrates grid search, Bayesian optimisation, and feature selection utilities."
   ]
  },
  {
   "cell_type": "code",
   "execution_count": null,
   "id": "8536ad0b",
   "metadata": {},
   "outputs": [],
   "source": [
    "\n",
    "from Day_53_Model_Tuning_and_Feature_Selection.solutions import (\n",
    "    compute_permutation_importance,\n",
    "    evaluate_selected_features,\n",
    "    generate_tuning_dataset,\n",
    "    run_bayesian_optimisation,\n",
    "    run_grid_search,\n",
    "    run_recursive_feature_elimination,\n",
    ")\n",
    "\n",
    "X, y = generate_tuning_dataset()\n",
    "grid_result = run_grid_search(X, y)\n",
    "bayes_result = run_bayesian_optimisation(X, y, n_iter=10)\n",
    "grid_result.best_params, round(grid_result.best_score, 3), round(bayes_result.best_score, 3)\n"
   ]
  },
  {
   "cell_type": "markdown",
   "id": "226390b5",
   "metadata": {},
   "source": [
    "Inspect permutation importance and recursive feature elimination."
   ]
  },
  {
   "cell_type": "code",
   "execution_count": null,
   "id": "57b74163",
   "metadata": {},
   "outputs": [],
   "source": [
    "\n",
    "best_estimator = grid_result.search.best_estimator_\n",
    "permutation_df = compute_permutation_importance(best_estimator, X, y)\n",
    "selector, support = run_recursive_feature_elimination(X, y)\n",
    "selected_score = evaluate_selected_features(selector, X, y)\n",
    "permutation_df.head(), support, round(selected_score, 3)\n"
   ]
  }
 ],
 "metadata": {},
 "nbformat": 4,
 "nbformat_minor": 5
}
