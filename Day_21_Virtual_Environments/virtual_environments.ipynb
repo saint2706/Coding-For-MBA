{
 "cells": [
  {
   "cell_type": "markdown",
   "id": "323ff03b",
   "metadata": {},
   "source": [
    "Day 21: Virtual Environments\n",
    "\n",
    "This lesson is primarily focused on commands you run in your terminal,\n",
    "not in a Python script.\n",
    "\n",
    "Please see the README.md file for the full lesson and exercises.\n",
    "\n",
    "The key commands are:\n",
    "1. Create environment: python -m venv venv\n",
    "2. Activate (macOS/Linux): source venv/bin/activate\n",
    "3. Activate (Windows): venv\\Scripts\\activate.bat\n",
    "4. Install packages: pip install <package_name>\n",
    "5. Save packages: pip freeze > requirements.txt\n",
    "6. Deactivate: deactivate"
   ]
  },
  {
   "cell_type": "code",
   "execution_count": null,
   "id": "fe7f3d99",
   "metadata": {},
   "outputs": [],
   "source": [
    "\n",
    "print(\"This Python script is a placeholder.\")\n",
    "print(\n",
    "    \"Please follow the instructions in README.md to practice using virtual environments in your terminal.\"\n",
    ")\n"
   ]
  }
 ],
 "metadata": {
  "kernelspec": {
   "display_name": "Python 3",
   "language": "python",
   "name": "python3"
  },
  "language_info": {
   "name": "python",
   "version": "3.12.10"
  }
 },
 "nbformat": 4,
 "nbformat_minor": 5
}
