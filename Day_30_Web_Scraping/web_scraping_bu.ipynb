{
 "cells": [
  {
   "cell_type": "code",
   "execution_count": null,
   "id": "b7782504",
   "metadata": {},
   "outputs": [],
   "source": [
    "import json\n",
    "\n",
    "from pathlib import Path\n",
    "\n",
    "import requests\n",
    "from bs4 import BeautifulSoup\n",
    "\n",
    "url1 = \"https://www.bu.edu/president/boston-university-facts-stats/\"\n",
    "response1 = requests.get(url1)\n",
    "content1 = response1.content\n",
    "soup1 = BeautifulSoup(content1, \"html.parser\")\n",
    "tables = soup1.find_all(\"div\", class_=\"facts-wrapper\")\n",
    "\n",
    "list_of_tables = []\n",
    "\n",
    "for i in tables:\n",
    "    keys = []\n",
    "    values = []\n",
    "    temp_dict = {}\n",
    "    i = str(i)\n",
    "    category = i[i.find(\"<h5>\") + 4 : i.find(\"</h5>\")]\n",
    "    temp_dict[\"Category\"] = category\n",
    "    all_key_start_indexes = [x + 7 for x in range(len(i)) if i.startswith('\"text\">', x)]\n",
    "    all_key_end_indexes = [x for x in range(len(i)) if i.startswith(\"</p>\", x)]\n",
    "\n",
    "    for start_index, end_index in zip(all_key_start_indexes, all_key_end_indexes):\n",
    "        keys.append(i[start_index:end_index])\n",
    "\n",
    "    all_values_start_indexes = []\n",
    "    for v in range(len(i)):\n",
    "        if i.startswith('value\">', v):\n",
    "            all_values_start_indexes.append(v + 7)\n",
    "        if i.startswith('value-text\">', v):\n",
    "            all_values_start_indexes.append(v + 12)\n",
    "    all_values_end_indexes = [x for x in range(len(i)) if i.startswith(\"</span>\", x)]\n",
    "\n",
    "    for m in range(len(all_values_end_indexes)):\n",
    "        values.append(i[all_values_start_indexes[m] : all_values_end_indexes[m]])\n",
    "\n",
    "    for r in range(len(keys)):\n",
    "        temp_dict[keys[r]] = values[r]\n",
    "    list_of_tables.append(temp_dict)\n",
    "\n",
    "output_path = Path(__file__).resolve().parent / \"scraped_exercise_1.json\"\n",
    "\n",
    "with output_path.open(\"w\", encoding=\"utf-8\") as fp:\n",
    "    json.dump(list_of_tables, fp)\n"
   ]
  }
 ],
 "metadata": {
  "kernelspec": {
   "display_name": "Python 3",
   "language": "python",
   "name": "python3"
  },
  "language_info": {
   "name": "python",
   "version": "3.12.10"
  }
 },
 "nbformat": 4,
 "nbformat_minor": 5
}
