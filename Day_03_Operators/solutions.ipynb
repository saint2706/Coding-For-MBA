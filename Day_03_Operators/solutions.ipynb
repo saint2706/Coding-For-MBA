{
 "cells": [
  {
   "cell_type": "markdown",
   "id": "d97746eb",
   "metadata": {},
   "source": [
    "Day 3: Solutions to Exercises"
   ]
  },
  {
   "cell_type": "code",
   "execution_count": null,
   "id": "b9869766",
   "metadata": {},
   "outputs": [],
   "source": [
    "\n",
    "# --- Exercise 1: Calculate Net Profit Margin ---\n",
    "print(\"--- Solution to Exercise 1 ---\")\n",
    "revenue = 1200000\n",
    "total_expenses = 850000\n",
    "\n",
    "# Calculate the profit\n",
    "profit = revenue - total_expenses\n",
    "\n",
    "# Calculate the net profit margin\n",
    "# It's good practice to check if revenue is zero to avoid a DivisionByZeroError\n",
    "if revenue > 0:\n",
    "    net_profit_margin = (profit / revenue) * 100\n",
    "    print(f\"Revenue: ${revenue:,.2f}\")\n",
    "    print(f\"Expenses: ${total_expenses:,.2f}\")\n",
    "    print(f\"Profit: ${profit:,.2f}\")\n",
    "    print(f\"Net Profit Margin: {net_profit_margin:.2f}%\")\n",
    "else:\n",
    "    print(\"Cannot calculate margin as revenue is zero.\")\n",
    "print(\"-\" * 20)\n",
    "\n",
    "\n",
    "# --- Exercise 2: Inventory Check ---\n",
    "print(\"--- Solution to Exercise 2 ---\")\n",
    "inventory_count = 45\n",
    "low_stock_threshold = 50\n",
    "reorder_threshold = 25\n",
    "\n",
    "is_low_stock = inventory_count < low_stock_threshold\n",
    "reorder_required = inventory_count <= reorder_threshold\n",
    "\n",
    "print(f\"Inventory count: {inventory_count} units\")\n",
    "print(f\"Is inventory considered low stock? {is_low_stock}\")\n",
    "print(f\"Is a reorder required? {reorder_required}\")\n",
    "print(\"-\" * 20)\n",
    "\n",
    "\n",
    "# --- Exercise 3: Sales Bonus Eligibility ---\n",
    "print(\"--- Solution to Exercise 3 ---\")\n",
    "\n",
    "\n",
    "def check_bonus_eligibility(sales, years_of_service, top_performer_last_quarter):\n",
    "    \"\"\"A helper function to test different scenarios easily.\"\"\"\n",
    "    is_eligible = (sales > 10000 and years_of_service > 2) or top_performer_last_quarter\n",
    "    print(\n",
    "        f\"Scenario: Sales=${sales}, Service={years_of_service}yrs, Top Performer={top_performer_last_quarter} -> Eligible? {is_eligible}\"\n",
    "    )\n",
    "\n",
    "\n",
    "# Scenario 1: High sales but new employee\n",
    "check_bonus_eligibility(12000, 1, False)\n",
    "\n",
    "# Scenario 2: Low sales but top performer\n",
    "check_bonus_eligibility(8000, 3, True)\n",
    "\n",
    "# Scenario 3: High sales and long service\n",
    "check_bonus_eligibility(15000, 5, False)\n",
    "\n",
    "# Scenario 4: Not eligible on any count\n",
    "check_bonus_eligibility(9000, 1, False)\n",
    "print(\"-\" * 20)\n"
   ]
  }
 ],
 "metadata": {
  "kernelspec": {
   "display_name": "Python 3",
   "language": "python",
   "name": "python3"
  },
  "language_info": {
   "name": "python",
   "version": "3.12.10"
  }
 },
 "nbformat": 4,
 "nbformat_minor": 5
}
