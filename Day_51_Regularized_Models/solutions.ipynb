{
 "cells": [
  {
   "cell_type": "markdown",
   "id": "c1165e4b",
   "metadata": {},
   "source": [
    "# Day 51 – Regularised Models"
   ]
  },
  {
   "cell_type": "markdown",
   "id": "5461745f",
   "metadata": {},
   "source": [
    "This notebook mirrors the `solutions.py` module and demonstrates how ridge, lasso, and elastic net regularisation influence coefficient magnitudes and validation scores."
   ]
  },
  {
   "cell_type": "code",
   "execution_count": null,
   "id": "fc0496df",
   "metadata": {},
   "outputs": [],
   "source": [
    "\n",
    "from Day_51_Regularized_Models.solutions import (\n",
    "    build_regularised_pipeline,\n",
    "    evaluate_models_with_cv,\n",
    "    load_synthetic_regression,\n",
    "    summarise_coefficients,\n",
    ")\n",
    "\n",
    "X, y, coef = load_synthetic_regression()\n",
    "models = {\n",
    "    \"linear\": build_regularised_pipeline(\"linear\"),\n",
    "    \"ridge\": build_regularised_pipeline(\"ridge\", alpha=1.0),\n",
    "    \"lasso\": build_regularised_pipeline(\"lasso\", alpha=0.05),\n",
    "    \"elastic_net\": build_regularised_pipeline(\"elastic_net\", alpha=0.08, l1_ratio=0.5),\n",
    "}\n",
    "results = evaluate_models_with_cv(models, X, y)\n",
    "summary = summarise_coefficients(results)\n",
    "summary\n"
   ]
  },
  {
   "cell_type": "markdown",
   "id": "7ffd5acf",
   "metadata": {},
   "source": [
    "The Poisson regression GLM below shows how to tackle count data where variance grows with the mean."
   ]
  },
  {
   "cell_type": "code",
   "execution_count": null,
   "id": "c47115c7",
   "metadata": {},
   "outputs": [],
   "source": [
    "\n",
    "import numpy as np\n",
    "\n",
    "from Day_51_Regularized_Models.solutions import fit_poisson_glm\n",
    "\n",
    "rng = np.random.default_rng(51)\n",
    "X_counts = rng.poisson(3.0, size=(200, 3))\n",
    "rate = np.exp(0.3 * X_counts[:, 0] - 0.2 * X_counts[:, 1] + 0.1 * X_counts[:, 2])\n",
    "y_counts = rng.poisson(rate)\n",
    "model, deviance = fit_poisson_glm(X_counts, y_counts)\n",
    "print(f\"Mean Poisson deviance: {deviance:.3f}\")\n"
   ]
  }
 ],
 "metadata": {},
 "nbformat": 4,
 "nbformat_minor": 5
}
