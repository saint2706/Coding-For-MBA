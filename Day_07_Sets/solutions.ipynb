{
 "cells": [
  {
   "cell_type": "markdown",
   "id": "ff8d4f09",
   "metadata": {},
   "source": [
    "Day 7: Solutions to Exercises"
   ]
  },
  {
   "cell_type": "code",
   "execution_count": null,
   "id": "29f927d4",
   "metadata": {},
   "outputs": [],
   "source": [
    "\n",
    "# --- Exercise 1: Find Unique Customer Cities ---\n",
    "print(\"--- Solution to Exercise 1 ---\")\n",
    "order_cities = [\n",
    "    \"New York\",\n",
    "    \"Los Angeles\",\n",
    "    \"Chicago\",\n",
    "    \"New York\",\n",
    "    \"Boston\",\n",
    "    \"Los Angeles\",\n",
    "]\n",
    "print(f\"Original list of cities: {order_cities}\")\n",
    "\n",
    "# Converting the list to a set automatically removes duplicates\n",
    "unique_cities = set(order_cities)\n",
    "\n",
    "print(f\"Set of unique cities: {unique_cities}\")\n",
    "print(f\"Number of unique cities where orders were placed: {len(unique_cities)}\")\n",
    "print(\"-\" * 20)\n",
    "\n",
    "\n",
    "# --- Exercise 2: Analyze Website Visitor Activity ---\n",
    "print(\"--- Solution to Exercise 2 ---\")\n",
    "pricing_visitors = {\"user1\", \"user3\", \"user5\", \"user7\"}\n",
    "contact_visitors = {\"user2\", \"user3\", \"user4\", \"user5\"}\n",
    "\n",
    "print(f\"Pricing Page Visitors: {pricing_visitors}\")\n",
    "print(f\"Contact Page Visitors: {contact_visitors}\")\n",
    "\n",
    "# Intersection: users who did both\n",
    "both_pages_visitors = pricing_visitors.intersection(contact_visitors)\n",
    "print(f\"Users who visited BOTH pages: {both_pages_visitors}\")\n",
    "\n",
    "# Difference: users who visited pricing but not contact\n",
    "pricing_only_visitors = pricing_visitors.difference(contact_visitors)\n",
    "print(f\"Users who visited Pricing but NOT Contact: {pricing_only_visitors}\")\n",
    "\n",
    "# Union: all unique users who visited either page\n",
    "all_visitors = pricing_visitors.union(contact_visitors)\n",
    "print(f\"All unique visitors to either page: {all_visitors}\")\n",
    "print(\"-\" * 20)\n",
    "\n",
    "\n",
    "# --- Exercise 3: Manage Product Features ---\n",
    "print(\"--- Solution to Exercise 3 ---\")\n",
    "standard_features = {\"reporting\", \"data_export\", \"basic_support\"}\n",
    "print(f\"Standard Plan Features: {standard_features}\")\n",
    "\n",
    "# Create a copy to avoid modifying the original set\n",
    "pro_features = standard_features.copy()\n",
    "\n",
    "# New features to add\n",
    "new_pro_features = [\"api_access\", \"priority_support\"]\n",
    "pro_features.update(new_pro_features)\n",
    "\n",
    "print(f\"Pro Plan Features after update: {pro_features}\")\n",
    "print(\"-\" * 20)\n"
   ]
  }
 ],
 "metadata": {
  "kernelspec": {
   "display_name": "Python 3",
   "language": "python",
   "name": "python3"
  },
  "language_info": {
   "name": "python",
   "version": "3.12.10"
  }
 },
 "nbformat": 4,
 "nbformat_minor": 5
}
