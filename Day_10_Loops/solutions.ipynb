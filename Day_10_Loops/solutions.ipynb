{
 "cells": [
  {
   "cell_type": "markdown",
   "id": "bc5c1e26",
   "metadata": {},
   "source": [
    "Day 10: Solutions to Exercises"
   ]
  },
  {
   "cell_type": "code",
   "execution_count": null,
   "id": "6773dde5",
   "metadata": {},
   "outputs": [],
   "source": [
    "\n",
    "# --- Exercise 1: Calculate Average Employee Age ---\n",
    "print(\"--- Solution to Exercise 1 ---\")\n",
    "employees = [\n",
    "    {\"name\": \"Alice\", \"age\": 30},\n",
    "    {\"name\": \"Bob\", \"age\": 45},\n",
    "    {\"name\": \"Charlie\", \"age\": 35},\n",
    "    {\"name\": \"Diana\", \"age\": 28},\n",
    "]\n",
    "\n",
    "total_age = 0\n",
    "for employee in employees:\n",
    "    total_age += employee[\"age\"]\n",
    "\n",
    "# Ensure we don't divide by zero if the list is empty\n",
    "if len(employees) > 0:\n",
    "    average_age = total_age / len(employees)\n",
    "    print(f\"The average age of employees is: {average_age:.1f} years\")\n",
    "else:\n",
    "    print(\"No employees in the list.\")\n",
    "print(\"-\" * 20)\n",
    "\n",
    "\n",
    "# --- Exercise 2: Filter High-Priority Customers ---\n",
    "print(\"--- Solution to Exercise 2 ---\")\n",
    "customers = [\n",
    "    {\"name\": \"InnovateCorp\", \"total_spent\": 5500},\n",
    "    {\"name\": \"DataDriven Inc.\", \"total_spent\": 1200},\n",
    "    {\"name\": \"Analytics LLC\", \"total_spent\": 2100},\n",
    "    {\"name\": \"Key Insights\", \"total_spent\": 1800},\n",
    "]\n",
    "\n",
    "high_priority_customers = []\n",
    "for customer in customers:\n",
    "    if customer[\"total_spent\"] > 2000:\n",
    "        high_priority_customers.append(customer[\"name\"])\n",
    "\n",
    "print(f\"High-priority customers (spent > $2000): {high_priority_customers}\")\n",
    "print(\"-\" * 20)\n",
    "\n",
    "\n",
    "# --- Exercise 3: Inventory Stock Alert ---\n",
    "print(\"--- Solution to Exercise 3 ---\")\n",
    "inventory = {\"Laptops\": 15, \"Mice\": 150, \"Keyboards\": 45, \"Monitors\": 25}\n",
    "low_stock_threshold = 50\n",
    "\n",
    "print(\"Checking inventory levels...\")\n",
    "for product, count in inventory.items():\n",
    "    if count < low_stock_threshold:\n",
    "        print(f\"  - ALERT: {product} are low on stock ({count} units remaining).\")\n",
    "print(\"-\" * 20)\n"
   ]
  }
 ],
 "metadata": {
  "kernelspec": {
   "display_name": "Python 3",
   "language": "python",
   "name": "python3"
  },
  "language_info": {
   "name": "python",
   "version": "3.12.10"
  }
 },
 "nbformat": 4,
 "nbformat_minor": 5
}
