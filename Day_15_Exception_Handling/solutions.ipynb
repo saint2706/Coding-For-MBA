{
 "cells": [
  {
   "cell_type": "code",
   "execution_count": null,
   "id": "89723e5f",
   "metadata": {},
   "outputs": [],
   "source": [
    "# Day 15: Exception Handling - Solutions\n",
    "\n",
    "## Exercise 1: Handling a `ValueError`\n",
    "\n",
    "\n",
    "try:\n",
    "    age = int(input(\"Enter your age: \"))\n",
    "    print(f\"You are {age} years old.\")\n",
    "except ValueError:\n",
    "    print(\"Invalid input. Please enter a numeric value for your age.\")\n",
    "\n",
    "\n",
    "## Exercise 2: Handling a `ZeroDivisionError`\n",
    "\n",
    "\n",
    "try:\n",
    "    num1 = float(input(\"Enter the first number: \"))\n",
    "    num2 = float(input(\"Enter the second number: \"))\n",
    "    result = num1 / num2\n",
    "    print(f\"The result of the division is: {result}\")\n",
    "except ZeroDivisionError:\n",
    "    print(\"Error: Cannot divide by zero.\")\n",
    "except ValueError:\n",
    "    print(\"Invalid input. Please enter numeric values.\")\n",
    "\n",
    "\n",
    "## Exercise 3: Refactor `exception.py`\n",
    "\n",
    "\n",
    "country_names = [\"Finland\"]\n",
    "\n",
    "try:\n",
    "    *nordic_countries, estonia, russia = country_names\n",
    "\n",
    "    print(\"Nordic Countries:\", nordic_countries)\n",
    "    print(\"Estonia:\", estonia)\n",
    "    print(\"Russia:\", russia)\n",
    "\n",
    "except ValueError as e:\n",
    "    if \"not enough values to unpack\" in str(e):\n",
    "        print(\n",
    "            f\"Error: The list of countries must have at least two elements. Details: {e}\"\n",
    "        )\n",
    "    else:\n",
    "        print(f\"A ValueError occurred: {e}\")\n",
    "except Exception as e:\n",
    "    print(f\"An unexpected error occurred: {e}\")\n"
   ]
  }
 ],
 "metadata": {
  "kernelspec": {
   "display_name": "Python 3",
   "language": "python",
   "name": "python3"
  },
  "language_info": {
   "name": "python",
   "version": "3.12.10"
  }
 },
 "nbformat": 4,
 "nbformat_minor": 5
}
