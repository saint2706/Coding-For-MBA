{
 "cells": [
  {
   "cell_type": "markdown",
   "id": "18f3dd51",
   "metadata": {},
   "source": [
    "Utility helpers for text processing used by the Day 35 Flask app."
   ]
  },
  {
   "cell_type": "code",
   "execution_count": null,
   "id": "03d23c27",
   "metadata": {},
   "outputs": [],
   "source": [
    "\n",
    "from __future__ import annotations\n",
    "\n",
    "import re\n",
    "import string\n",
    "from collections import Counter\n",
    "from typing import List, Tuple\n",
    "\n",
    "from lexical_diversity import lex_div as ld  # pyright: ignore[reportMissingImports]\n",
    "\n",
    "WordCount = List[Tuple[str, int]]\n",
    "\n",
    "\n",
    "def clean_text(text: str) -> str:\n",
    "    \"\"\"Normalize raw input text by stripping markup, punctuation and digits.\"\"\"\n",
    "\n",
    "    text = text.lower()\n",
    "    text = re.sub(r\"\\[.*?]\", \"\", text)\n",
    "    text = re.sub(r\"https?://\\S+|www\\.\\S+\", \"\", text)\n",
    "    text = re.sub(\"<.*?>+\", \"\", text)\n",
    "    text = re.sub(\"[%s]\" % re.escape(string.punctuation), \"\", text)\n",
    "    text = re.sub(\"\\n\", \" \", text)\n",
    "    text = re.sub(r\"\\w*\\d\\w*\", \"\", text)\n",
    "    return re.sub(r\"\\s+\", \" \", text).strip()\n",
    "\n",
    "\n",
    "def most_common_word(text: str) -> WordCount:\n",
    "    \"\"\"Return word counts sorted by frequency.\"\"\"\n",
    "\n",
    "    if not text:\n",
    "        return []\n",
    "\n",
    "    return Counter(text.split()).most_common()\n",
    "\n",
    "\n",
    "def lex_div_calc(text: str) -> str:\n",
    "    \"\"\"Calculate lexical diversity and return it formatted as a percentage string.\"\"\"\n",
    "\n",
    "    if not text:\n",
    "        return \"0.0\"\n",
    "\n",
    "    return f\"{ld.ttr(ld.flemmatize(text)) * 100:.1f}\"\n"
   ]
  }
 ],
 "metadata": {
  "kernelspec": {
   "display_name": "Python 3",
   "language": "python",
   "name": "python3"
  },
  "language_info": {
   "name": "python",
   "version": "3.12.10"
  }
 },
 "nbformat": 4,
 "nbformat_minor": 5
}
