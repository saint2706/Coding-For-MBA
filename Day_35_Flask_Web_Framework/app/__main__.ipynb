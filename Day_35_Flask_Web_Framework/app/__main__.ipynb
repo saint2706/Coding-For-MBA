{
 "cells": [
  {
   "cell_type": "markdown",
   "id": "66158c19",
   "metadata": {},
   "source": [
    "Command-line entry point for running the Day 35 Flask app."
   ]
  },
  {
   "cell_type": "code",
   "execution_count": null,
   "id": "4939fb3c",
   "metadata": {},
   "outputs": [],
   "source": [
    "\n",
    "from __future__ import annotations\n",
    "\n",
    "import os\n",
    "\n",
    "from . import create_app\n",
    "\n",
    "\n",
    "def main() -> None:\n",
    "    app = create_app()\n",
    "    port = int(os.environ.get(\"PORT\", 5000))\n",
    "    app.run(debug=True, host=\"0.0.0.0\", port=port)\n",
    "\n",
    "\n",
    "if __name__ == \"__main__\":\n",
    "    main()\n"
   ]
  }
 ],
 "metadata": {
  "kernelspec": {
   "display_name": "Python 3",
   "language": "python",
   "name": "python3"
  },
  "language_info": {
   "name": "python",
   "version": "3.12.10"
  }
 },
 "nbformat": 4,
 "nbformat_minor": 5
}
