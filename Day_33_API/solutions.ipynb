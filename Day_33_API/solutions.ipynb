{
 "cells": [
  {
   "cell_type": "markdown",
   "id": "c1c1ef50",
   "metadata": {},
   "source": [
    "Day 33: Solutions to Exercises"
   ]
  },
  {
   "cell_type": "code",
   "execution_count": null,
   "id": "885ff14d",
   "metadata": {},
   "outputs": [],
   "source": [
    "\n",
    "import requests\n",
    "import pandas as pd\n",
    "\n",
    "# --- Exercise 1: Fetch All Posts ---\n",
    "print(\"--- Solution to Exercise 1 ---\")\n",
    "posts_url = \"https://jsonplaceholder.typicode.com/posts\"\n",
    "try:\n",
    "    response = requests.get(posts_url)\n",
    "    response.raise_for_status()\n",
    "    posts_data = response.json()\n",
    "    posts_df = pd.DataFrame(posts_data)\n",
    "    print(\"DataFrame of all posts (first 5 rows):\")\n",
    "    print(posts_df.head())\n",
    "except requests.exceptions.RequestException as e:\n",
    "    print(f\"Error fetching posts: {e}\")\n",
    "print(\"-\" * 20)\n",
    "\n",
    "\n",
    "# --- Exercise 2: Fetch a Specific User's Data ---\n",
    "print(\"--- Solution to Exercise 2 ---\")\n",
    "user_id = 5\n",
    "user_url = f\"https://jsonplaceholder.typicode.com/users/{user_id}\"\n",
    "try:\n",
    "    response = requests.get(user_url)\n",
    "    response.raise_for_status()\n",
    "    user_data = response.json()\n",
    "    # The 'company' value is a nested dictionary\n",
    "    company_name = user_data.get(\"company\", {}).get(\"name\", \"N/A\")\n",
    "    print(f\"Data for User ID {user_id}:\")\n",
    "    print(f\"  Name: {user_data.get('name', 'N/A')}\")\n",
    "    print(f\"  Company: {company_name}\")\n",
    "except requests.exceptions.RequestException as e:\n",
    "    print(f\"Error fetching user {user_id}: {e}\")\n",
    "print(\"-\" * 20)\n",
    "\n",
    "\n",
    "# --- Exercise 3: Fetch Comments for a Specific Post ---\n",
    "print(\"--- Solution to Exercise 3 ---\")\n",
    "comments_url = \"https://jsonplaceholder.typicode.com/comments\"\n",
    "params = {\"postId\": 3}\n",
    "try:\n",
    "    response = requests.get(comments_url, params=params)\n",
    "    response.raise_for_status()\n",
    "    comments_data = response.json()\n",
    "    comments_df = pd.DataFrame(comments_data)\n",
    "    print(f\"DataFrame of comments for postId={params['postId']} (first 5 rows):\")\n",
    "    print(comments_df.head())\n",
    "except requests.exceptions.RequestException as e:\n",
    "    print(f\"Error fetching comments: {e}\")\n",
    "print(\"-\" * 20)\n"
   ]
  }
 ],
 "metadata": {
  "kernelspec": {
   "display_name": "Python 3",
   "language": "python",
   "name": "python3"
  },
  "language_info": {
   "name": "python",
   "version": "3.12.10"
  }
 },
 "nbformat": 4,
 "nbformat_minor": 5
}
