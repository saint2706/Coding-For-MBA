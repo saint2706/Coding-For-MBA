{
 "cells": [
  {
   "cell_type": "markdown",
   "id": "807ca59f",
   "metadata": {},
   "source": [
    "Sample data used by the Day 34 Flask API."
   ]
  },
  {
   "cell_type": "code",
   "execution_count": null,
   "id": "f6963438",
   "metadata": {},
   "outputs": [],
   "source": [
    "\n",
    "PRODUCTS = [\n",
    "    {\"id\": 1, \"name\": \"Laptop\", \"price\": 1200, \"category\": \"Electronics\"},\n",
    "    {\"id\": 2, \"name\": \"Mouse\", \"price\": 25, \"category\": \"Peripherals\"},\n",
    "    {\"id\": 3, \"name\": \"Keyboard\", \"price\": 75, \"category\": \"Peripherals\"},\n",
    "]\n",
    "\n",
    "EMPLOYEES = [\n",
    "    {\"id\": 101, \"name\": \"Alice\", \"department\": \"Sales\"},\n",
    "    {\"id\": 102, \"name\": \"Bob\", \"department\": \"Engineering\"},\n",
    "]\n"
   ]
  }
 ],
 "metadata": {
  "kernelspec": {
   "display_name": "Python 3",
   "language": "python",
   "name": "python3"
  },
  "language_info": {
   "name": "python",
   "version": "3.12.10"
  }
 },
 "nbformat": 4,
 "nbformat_minor": 5
}
