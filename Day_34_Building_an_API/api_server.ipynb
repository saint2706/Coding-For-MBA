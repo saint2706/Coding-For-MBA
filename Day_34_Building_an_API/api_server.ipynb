{
 "cells": [
  {
   "cell_type": "markdown",
   "id": "2840ceee",
   "metadata": {},
   "source": [
    "Day 34: Building a Simple API with Flask.\n",
    "\n",
    "This module exposes a Flask application factory that serves sample\n",
    "business data in JSON format."
   ]
  },
  {
   "cell_type": "code",
   "execution_count": null,
   "id": "4d9e5c6b",
   "metadata": {},
   "outputs": [],
   "source": [
    "\n",
    "from flask import Flask, jsonify\n",
    "\n",
    "from Day_34_Building_an_API.data import EMPLOYEES, PRODUCTS\n",
    "\n",
    "\n",
    "def create_app() -> Flask:\n",
    "    \"\"\"Create and configure the Flask application for the sample API.\"\"\"\n",
    "    app = Flask(__name__)\n",
    "\n",
    "    app.config[\"PRODUCTS\"] = PRODUCTS\n",
    "    app.config[\"EMPLOYEES\"] = EMPLOYEES\n",
    "\n",
    "    @app.route(\"/\")\n",
    "    def home():\n",
    "        return (\n",
    "            \"<h1>Welcome to the Company Data API</h1>\"\n",
    "            \"<p>Use endpoints like /api/v1/products to get data.</p>\"\n",
    "        )\n",
    "\n",
    "    @app.route(\"/api/v1/products\", methods=[\"GET\"])\n",
    "    def get_all_products():\n",
    "        \"\"\"Return the full list of products as JSON.\"\"\"\n",
    "        return jsonify(app.config[\"PRODUCTS\"])\n",
    "\n",
    "    @app.route(\"/api/v1/products/<int:product_id>\", methods=[\"GET\"])\n",
    "    def get_single_product(product_id):\n",
    "        \"\"\"Return a single product matching the given ID.\"\"\"\n",
    "        products = app.config[\"PRODUCTS\"]\n",
    "        product = next((p for p in products if p[\"id\"] == product_id), None)\n",
    "\n",
    "        if product:\n",
    "            return jsonify(product)\n",
    "        return jsonify({\"error\": \"Product not found\"}), 404\n",
    "\n",
    "    @app.route(\"/api/v1/employees\", methods=[\"GET\"])\n",
    "    def get_all_employees():\n",
    "        \"\"\"Return the full list of employees as JSON.\"\"\"\n",
    "        return jsonify(app.config[\"EMPLOYEES\"])\n",
    "\n",
    "    return app\n",
    "\n",
    "\n",
    "app = create_app()\n",
    "\n",
    "\n",
    "if __name__ == \"__main__\":\n",
    "    app.run(host=\"0.0.0.0\", port=5000, debug=True)\n"
   ]
  }
 ],
 "metadata": {
  "kernelspec": {
   "display_name": "Python 3",
   "language": "python",
   "name": "python3"
  },
  "language_info": {
   "name": "python",
   "version": "3.12.10"
  }
 },
 "nbformat": 4,
 "nbformat_minor": 5
}
