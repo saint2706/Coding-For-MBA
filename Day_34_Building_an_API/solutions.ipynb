{
 "cells": [
  {
   "cell_type": "markdown",
   "id": "aa26bc7d",
   "metadata": {},
   "source": [
    "Day 34: Solutions to Exercises\n",
    "\n",
    "This single file contains the complete solution for all three\n",
    "exercises, as they build upon each other."
   ]
  },
  {
   "cell_type": "code",
   "execution_count": null,
   "id": "f3feed31",
   "metadata": {},
   "outputs": [],
   "source": [
    "\n",
    "from flask import Flask, jsonify\n",
    "\n",
    "# --- Exercise 1: Create a Basic API Server ---\n",
    "app = Flask(__name__)\n",
    "\n",
    "\n",
    "@app.route(\"/\")\n",
    "def home():\n",
    "    \"\"\"Returns a simple welcome message for the root URL.\"\"\"\n",
    "    return \"Welcome to the Company Data API\"\n",
    "\n",
    "\n",
    "# --- Exercise 2: Serve Employee Data ---\n",
    "# Sample data for the API\n",
    "EMPLOYEES = [\n",
    "    {\"id\": 1, \"name\": \"John Doe\", \"department\": \"Sales\"},\n",
    "    {\"id\": 2, \"name\": \"Jane Smith\", \"department\": \"Engineering\"},\n",
    "    {\"id\": 3, \"name\": \"Peter Jones\", \"department\": \"Marketing\"},\n",
    "    {\"id\": 4, \"name\": \"Lisa Ray\", \"department\": \"Sales\"},\n",
    "]\n",
    "\n",
    "\n",
    "@app.route(\"/api/employees\", methods=[\"GET\"])\n",
    "def get_employees():\n",
    "    \"\"\"Returns the full list of employees as JSON.\"\"\"\n",
    "    return jsonify(EMPLOYEES)\n",
    "\n",
    "\n",
    "# --- Exercise 3: Serve a Single Employee's Data ---\n",
    "@app.route(\"/api/employees/<int:employee_id>\", methods=[\"GET\"])\n",
    "def get_employee(employee_id):\n",
    "    \"\"\"\n",
    "    Returns data for a single employee based on their ID.\n",
    "    Returns a 404 error if the employee is not found.\n",
    "    \"\"\"\n",
    "    # Find the employee in the list\n",
    "    employee = next((emp for emp in EMPLOYEES if emp[\"id\"] == employee_id), None)\n",
    "\n",
    "    if employee:\n",
    "        return jsonify(employee)\n",
    "    else:\n",
    "        # Return a JSON error message and a 404 status code\n",
    "        error_message = {\"error\": f\"Employee with ID {employee_id} not found.\"}\n",
    "        return jsonify(error_message), 404\n",
    "\n",
    "\n",
    "if __name__ == \"__main__\":\n",
    "    # To run this API server:\n",
    "    # 1. Save the code as a Python file (e.g., 'my_api.py').\n",
    "    # 2. Run from your terminal: python my_api.py\n",
    "    # 3. Open your web browser or an API tool like Postman.\n",
    "    # 4. Navigate to URLs like:\n",
    "    #    - http://127.0.0.1:5000/\n",
    "    #    - http://127.0.0.1:5000/api/employees\n",
    "    #    - http://127.0.0.1:5000/api/employees/2\n",
    "    #    - http://127.0.0.1:5000/api/employees/99 (to see the 404 error)\n",
    "    app.run(debug=True)\n"
   ]
  }
 ],
 "metadata": {
  "kernelspec": {
   "display_name": "Python 3",
   "language": "python",
   "name": "python3"
  },
  "language_info": {
   "name": "python",
   "version": "3.12.10"
  }
 },
 "nbformat": 4,
 "nbformat_minor": 5
}
