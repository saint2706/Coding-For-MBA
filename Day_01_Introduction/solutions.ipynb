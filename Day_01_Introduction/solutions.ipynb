{
 "cells": [
  {
   "cell_type": "markdown",
   "id": "acdc6fa9",
   "metadata": {},
   "source": [
    "Day 1: Solutions to Exercises"
   ]
  },
  {
   "cell_type": "code",
   "execution_count": null,
   "id": "81d8c65a",
   "metadata": {},
   "outputs": [],
   "source": [
    "\n",
    "# --- Exercise 1: Company Introduction ---\n",
    "print(\"--- Solution to Exercise 1 ---\")\n",
    "print(\"Welcome to InnovateCorp Analytics\")\n",
    "print(\"-\" * 20)\n",
    "\n",
    "\n",
    "# --- Exercise 2: Quarterly Sales Calculation ---\n",
    "print(\"--- Solution to Exercise 2 ---\")\n",
    "# The calculation is done directly inside the print function.\n",
    "print(\"Total Annual Sales:\")\n",
    "print(110000 + 120000 + 135000 + 140000)\n",
    "print(\"-\" * 20)\n",
    "\n",
    "\n",
    "# --- Exercise 3: Checking Data Types in Business ---\n",
    "print(\"--- Solution to Exercise 3 ---\")\n",
    "# Using the type() function to inspect each data point.\n",
    "print(\"Data point: 1500, Type:\", type(1500))\n",
    "print(\"Data point: 1500.75, Type:\", type(1500.75))\n",
    "print(\"Data point: 'InnovateCorp', Type:\", type(\"InnovateCorp\"))\n",
    "print(\"Data point: True, Type:\", type(True))\n",
    "print(\"-\" * 20)\n"
   ]
  }
 ],
 "metadata": {
  "kernelspec": {
   "display_name": "Python 3",
   "language": "python",
   "name": "python3"
  },
  "language_info": {
   "name": "python",
   "version": "3.12.10"
  }
 },
 "nbformat": 4,
 "nbformat_minor": 5
}
