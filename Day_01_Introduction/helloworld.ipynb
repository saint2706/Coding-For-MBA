{
 "cells": [
  {
   "cell_type": "markdown",
   "id": "a602a902",
   "metadata": {},
   "source": [
    "Day 1: Python for Business Analytics - First Steps (Refactored)\n",
    "\n",
    "This script demonstrates basic Python concepts using business-relevant examples.\n",
    "We will perform a simple profit calculation and check the types of various\n",
    "business-related data points. This version is refactored to use functions."
   ]
  },
  {
   "cell_type": "code",
   "execution_count": null,
   "id": "bde0bdd8",
   "metadata": {},
   "outputs": [],
   "source": [
    "\n",
    "\n",
    "def calculate_gross_profit(revenue, cogs):\n",
    "    \"\"\"Calculates the gross profit from revenue and COGS.\"\"\"\n",
    "    return revenue - cogs\n",
    "\n",
    "\n",
    "def calculate_gross_profit_margin(gross_profit, revenue):\n",
    "    \"\"\"Calculates the gross profit margin.\"\"\"\n",
    "    if revenue == 0:\n",
    "        return 0\n",
    "    return (gross_profit / revenue) * 100\n",
    "\n",
    "\n",
    "def display_business_analytics(revenue, cogs):\n",
    "    \"\"\"Calculates and displays key business metrics.\"\"\"\n",
    "    print(\"Welcome to the Quarterly Business Review Dashboard\")\n",
    "    print()\n",
    "\n",
    "    gross_profit = calculate_gross_profit(revenue, cogs)\n",
    "    gross_profit_margin = calculate_gross_profit_margin(gross_profit, revenue)\n",
    "\n",
    "    print(f\"Total Revenue: ${revenue}\")\n",
    "    print(f\"Cost of Goods Sold: ${cogs}\")\n",
    "    print(f\"Gross Profit: ${gross_profit}\")\n",
    "    print()\n",
    "    print(f\"Gross Profit Margin: {gross_profit_margin:.2f}%\")\n",
    "    print(\"-\" * 20)\n",
    "\n",
    "\n",
    "def display_data_types():\n",
    "    \"\"\"Displays the types of various business-related data points.\"\"\"\n",
    "    print(\"Checking the types of some common business data points:\")\n",
    "\n",
    "    units_sold = 1500\n",
    "    product_price = 49.99\n",
    "    company_name = \"InnovateCorp\"\n",
    "    is_in_stock = True\n",
    "    quarterly_sales = [110000, 120000, 135000, 140000]\n",
    "\n",
    "    print(f\"Data: {units_sold}, Type: {type(units_sold)}\")\n",
    "    print(f\"Data: {product_price}, Type: {type(product_price)}\")\n",
    "    print(f\"Data: '{company_name}', Type: {type(company_name)}\")\n",
    "    print(f\"Data: {is_in_stock}, Type: {type(is_in_stock)}\")\n",
    "    print(f\"Data: {quarterly_sales}, Type: {type(quarterly_sales)}\")\n",
    "\n",
    "\n",
    "if __name__ == \"__main__\":\n",
    "    # --- Basic Business Calculations ---\n",
    "    revenue_main = 500000\n",
    "    cogs_main = 350000\n",
    "    display_business_analytics(revenue_main, cogs_main)\n",
    "\n",
    "    # --- Understanding Data Types in a Business Context ---\n",
    "    display_data_types()\n"
   ]
  }
 ],
 "metadata": {
  "kernelspec": {
   "display_name": "Python 3",
   "language": "python",
   "name": "python3"
  },
  "language_info": {
   "name": "python",
   "version": "3.12.10"
  }
 },
 "nbformat": 4,
 "nbformat_minor": 5
}
