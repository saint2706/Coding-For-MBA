{
 "cells": [
  {
   "cell_type": "markdown",
   "id": "3baa214d",
   "metadata": {},
   "source": [
    "Day 6: Solutions to Exercises"
   ]
  },
  {
   "cell_type": "code",
   "execution_count": null,
   "id": "72832757",
   "metadata": {},
   "outputs": [],
   "source": [
    "\n",
    "# --- Exercise 1: Store Geographic Coordinates ---\n",
    "print(\"--- Solution to Exercise 1 ---\")\n",
    "# A tuple is perfect here because these coordinates are fixed.\n",
    "hq_location = (40.7128, -74.0060)\n",
    "\n",
    "# \"Unpacking\" the tuple into separate variables\n",
    "latitude, longitude = hq_location\n",
    "\n",
    "print(f\"Headquarters Location: {hq_location}\")\n",
    "print(f\"Latitude: {latitude}\")\n",
    "print(f\"Longitude: {longitude}\")\n",
    "print(\"-\" * 20)\n",
    "\n",
    "\n",
    "# --- Exercise 2: Define Product Dimensions ---\n",
    "print(\"--- Solution to Exercise 2 ---\")\n",
    "# Dimensions are fixed, so a tuple is the right choice.\n",
    "package_dimensions = (25, 15, 10)\n",
    "\n",
    "# Accessing the tuple elements by their index for the print statement.\n",
    "print(\n",
    "    f\"Package Dimensions (LxWxH): {package_dimensions[0]}cm x {package_dimensions[1]}cm x {package_dimensions[2]}cm\"\n",
    ")\n",
    "print(\"-\" * 20)\n",
    "\n",
    "\n",
    "# --- Exercise 3: List vs. Tuple - The Right Tool for the Job ---\n",
    "print(\"--- Solution to Exercise 3 ---\")\n",
    "\n",
    "# Scenario A: Storing the monthly sales figures for the past year.\n",
    "# Choice: List. Sales figures might need to be corrected or updated. A list is mutable.\n",
    "print(\"Scenario A (Monthly Sales): Use a LIST because the data may need to be changed.\")\n",
    "\n",
    "# Scenario B: Storing the RGB color code for your company's official logo.\n",
    "# Choice: Tuple. A brand color is a constant and should not be accidentally changed. A tuple is immutable.\n",
    "print(\n",
    "    \"Scenario B (Brand Color): Use a TUPLE because the data is constant and should not change.\"\n",
    ")\n",
    "\n",
    "# Scenario C: Storing the names of employees in a department.\n",
    "# Choice: List. The roster of employees in a department changes frequently. A list is mutable.\n",
    "print(\n",
    "    \"Scenario C (Employee Roster): Use a LIST because the roster of employees changes over time.\"\n",
    ")\n",
    "\n",
    "# Scenario D: Storing the name, founding year, and stock ticker symbol for a company.\n",
    "# Choice: Tuple. This is core, identifying information that is fixed and should not change. A tuple is immutable.\n",
    "print(\n",
    "    \"Scenario D (Company Profile): Use a TUPLE because this core information is fixed.\"\n",
    ")\n",
    "print(\"-\" * 20)\n"
   ]
  }
 ],
 "metadata": {
  "kernelspec": {
   "display_name": "Python 3",
   "language": "python",
   "name": "python3"
  },
  "language_info": {
   "name": "python",
   "version": "3.12.10"
  }
 },
 "nbformat": 4,
 "nbformat_minor": 5
}
