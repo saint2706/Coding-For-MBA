{
 "cells": [
  {
   "cell_type": "markdown",
   "id": "c2cff646",
   "metadata": {},
   "source": [
    "# Day 52 – Ensemble Methods"
   ]
  },
  {
   "cell_type": "markdown",
   "id": "73932e59",
   "metadata": {},
   "source": [
    "Compare bagging, boosting, and stacking strategies on a synthetic dataset."
   ]
  },
  {
   "cell_type": "code",
   "execution_count": null,
   "id": "b2a6ebe1",
   "metadata": {},
   "outputs": [],
   "source": [
    "\n",
    "from Day_52_Ensemble_Methods.solutions import (\n",
    "    build_stacking_classifier,\n",
    "    evaluate_classifier,\n",
    "    evaluate_with_cross_validation,\n",
    "    export_feature_importance,\n",
    "    generate_classification_data,\n",
    "    train_gradient_boosting,\n",
    "    train_random_forest,\n",
    ")\n",
    "from sklearn.model_selection import train_test_split\n",
    "\n",
    "X, y = generate_classification_data()\n",
    "X_train, X_test, y_train, y_test = train_test_split(\n",
    "    X, y, test_size=0.25, random_state=52, stratify=y\n",
    ")\n",
    "\n",
    "rf = train_random_forest(X_train, y_train)\n",
    "feature_names = [f\"feature_{i}\" for i in range(X.shape[1])]\n",
    "rf_importances = export_feature_importance(rf, feature_names)\n",
    "\n",
    "gb = train_gradient_boosting(X_train, y_train)\n",
    "stacking = build_stacking_classifier()\n",
    "stacking.fit(X_train, y_train)\n",
    "\n",
    "rf_oob = rf.oob_score_\n",
    "gb_auc = evaluate_with_cross_validation(gb, X, y)\n",
    "\n",
    "rf_importances.head(), rf_oob, gb_auc\n"
   ]
  },
  {
   "cell_type": "markdown",
   "id": "3ca1d756",
   "metadata": {},
   "source": [
    "Calibrate stacked predictions to align probabilistic outputs with actual outcomes."
   ]
  },
  {
   "cell_type": "code",
   "execution_count": null,
   "id": "b03dee86",
   "metadata": {},
   "outputs": [],
   "source": [
    "\n",
    "from Day_52_Ensemble_Methods.solutions import calibrate_classifier\n",
    "\n",
    "calibrated = calibrate_classifier(stacking, X_train, y_train)\n",
    "calibration_metrics = evaluate_classifier(calibrated, X_test, y_test)\n",
    "calibration_metrics\n"
   ]
  }
 ],
 "metadata": {},
 "nbformat": 4,
 "nbformat_minor": 5
}
