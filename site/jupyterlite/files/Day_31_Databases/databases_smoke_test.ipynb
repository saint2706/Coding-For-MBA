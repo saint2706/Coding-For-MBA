{
 "cells": [
  {
   "cell_type": "markdown",
   "id": "0a50b3a1",
   "metadata": {},
   "source": [
    "# Day 31 – Databases\n",
    "\n",
    "This notebook mirrors the Day 31 SQLite demo and is used for smoke testing the hosted Binder environment."
   ]
  },
  {
   "cell_type": "code",
   "execution_count": null,
   "id": "cd70fd83",
   "metadata": {},
   "outputs": [],
   "source": [
    "import pathlib\n",
    "import sys\n",
    "\n",
    "repo_root = pathlib.Path.cwd().resolve()\n",
    "while repo_root != repo_root.parent:\n",
    "    if (repo_root / \"requirements.txt\").exists():\n",
    "        break\n",
    "    repo_root = repo_root.parent\n",
    "else:\n",
    "    raise RuntimeError(\"Could not locate repository root\")\n",
    "if str(repo_root) not in sys.path:\n",
    "    sys.path.insert(0, str(repo_root))\n",
    "print(f\"Notebook sys.path primed with {repo_root}\")"
   ]
  },
  {
   "cell_type": "code",
   "execution_count": null,
   "id": "38cb5325",
   "metadata": {},
   "outputs": [],
   "source": [
    "from Day_31_Databases import databases\n",
    "\n",
    "database_path = \"company_data_smoke.db\"\n",
    "print(database_path)"
   ]
  },
  {
   "cell_type": "code",
   "execution_count": null,
   "id": "af2b4b46",
   "metadata": {},
   "outputs": [],
   "source": [
    "databases.initialize_employee_db(database_path)\n",
    "print(\"Employees table created with sample records.\")"
   ]
  },
  {
   "cell_type": "code",
   "execution_count": null,
   "id": "5d369cc9",
   "metadata": {},
   "outputs": [],
   "source": [
    "databases.fetch_department_salaries(database_path, \"Sales\")"
   ]
  },
  {
   "cell_type": "code",
   "execution_count": null,
   "id": "255a2c61",
   "metadata": {},
   "outputs": [],
   "source": [
    "engineering_df = databases.fetch_department_dataframe(database_path, \"Engineering\")\n",
    "engineering_df"
   ]
  },
  {
   "cell_type": "code",
   "execution_count": null,
   "id": "9a9b80e7",
   "metadata": {},
   "outputs": [],
   "source": [
    "databases.cleanup_employee_db(database_path)\n",
    "print(f\"Removed {database_path}\")"
   ]
  }
 ],
 "metadata": {
  "kernelspec": {
   "display_name": "Python 3 (ipykernel)",
   "language": "python",
   "name": "python3"
  },
  "language_info": {
   "name": "python",
   "pygments_lexer": "ipython3"
  }
 },
 "nbformat": 4,
 "nbformat_minor": 5
}
