{
 "cells": [
  {
   "cell_type": "markdown",
   "id": "f411359d",
   "metadata": {},
   "source": [
    "# Day 29 – Interactive Visualization Walkthrough\n",
    "\n",
    "This notebook demonstrates the refactored helper functions in `interactive_visualization.py`."
   ]
  },
  {
   "cell_type": "code",
   "execution_count": null,
   "id": "6eda911a",
   "metadata": {},
   "outputs": [],
   "source": [
    "from Day_29_Interactive_Visualization import interactive_visualization as iv\n",
    "\n",
    "df = iv.load_sales_data()\n",
    "df.head()"
   ]
  },
  {
   "cell_type": "markdown",
   "id": "0deb47d9",
   "metadata": {},
   "source": [
    "## Revenue by Region"
   ]
  },
  {
   "cell_type": "code",
   "execution_count": null,
   "id": "99d555bc",
   "metadata": {},
   "outputs": [],
   "source": [
    "region_bar = iv.build_region_revenue_bar(df)\n",
    "region_bar"
   ]
  },
  {
   "cell_type": "markdown",
   "id": "fb0aafef",
   "metadata": {},
   "source": [
    "## Daily Revenue Trend"
   ]
  },
  {
   "cell_type": "code",
   "execution_count": null,
   "id": "4d6f96e4",
   "metadata": {},
   "outputs": [],
   "source": [
    "daily_line = iv.build_daily_revenue_line(df)\n",
    "daily_line"
   ]
  },
  {
   "cell_type": "markdown",
   "id": "6b186e93",
   "metadata": {},
   "source": [
    "## Price vs. Units Sold"
   ]
  },
  {
   "cell_type": "code",
   "execution_count": null,
   "id": "848b981a",
   "metadata": {},
   "outputs": [],
   "source": [
    "scatter_fig = iv.build_price_units_scatter(df)\n",
    "scatter_fig"
   ]
  }
 ],
 "metadata": {},
 "nbformat": 4,
 "nbformat_minor": 5
}
