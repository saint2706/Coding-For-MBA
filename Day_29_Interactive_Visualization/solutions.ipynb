{
 "cells": [
  {
   "cell_type": "markdown",
   "id": "819c9b1c",
   "metadata": {},
   "source": [
    "Day 29: Solutions to Exercises"
   ]
  },
  {
   "cell_type": "code",
   "execution_count": null,
   "id": "286ca953",
   "metadata": {},
   "outputs": [],
   "source": [
    "\n",
    "from pathlib import Path\n",
    "\n",
    "import pandas as pd\n",
    "import plotly.express as px\n",
    "\n",
    "# --- Load and Prepare Data ---\n",
    "resource_dir = Path(__file__).resolve().parent\n",
    "data_path = resource_dir / \"sales_data.csv\"\n",
    "\n",
    "try:\n",
    "    df = pd.read_csv(data_path, parse_dates=[\"Date\"])\n",
    "    df.dropna(inplace=True)  # Drop rows with missing values for simplicity\n",
    "    print(\"Data loaded successfully for exercises.\")\n",
    "except FileNotFoundError:\n",
    "    print(\"Error: sales_data.csv not found. Keep the CSV beside this script.\")\n",
    "    df = pd.DataFrame()\n",
    "\n",
    "\n",
    "if not df.empty:\n",
    "    # --- Exercise 1: Interactive Sales by Product ---\n",
    "    print(\"\\n--- Solution to Exercise 1 ---\")\n",
    "\n",
    "    # Group the data by Product to get the sum of Revenue\n",
    "    product_revenue = df.groupby(\"Product\")[\"Revenue\"].sum().reset_index()\n",
    "\n",
    "    # Create the interactive bar chart\n",
    "    fig1 = px.bar(\n",
    "        product_revenue,\n",
    "        x=\"Product\",\n",
    "        y=\"Revenue\",\n",
    "        title=\"Total Revenue by Product\",\n",
    "        labels={\"Revenue\": \"Total Revenue (USD)\"},\n",
    "        color=\"Product\",\n",
    "    )\n",
    "\n",
    "    # In a real environment, you would use fig1.show()\n",
    "    # For this exercise, we'll save it to an HTML file.\n",
    "    fig1.write_html(\"product_revenue_bar_chart.html\")\n",
    "    print(\"Plot for Exercise 1 saved to 'product_revenue_bar_chart.html'\")\n",
    "\n",
    "    # --- Exercise 2: Interactive Revenue vs. Units Sold ---\n",
    "    print(\"\\n--- Solution to Exercise 2 ---\")\n",
    "\n",
    "    # Create the interactive scatter plot\n",
    "    fig2 = px.scatter(\n",
    "        df,\n",
    "        x=\"Units Sold\",\n",
    "        y=\"Revenue\",\n",
    "        color=\"Region\",\n",
    "        title=\"Revenue vs. Units Sold by Region\",\n",
    "        labels={\"Units Sold\": \"Number of Units Sold\", \"Revenue\": \"Total Revenue (USD)\"},\n",
    "        hover_data=[\"Product\"],  # Add Product to the hover tooltip\n",
    "    )\n",
    "\n",
    "    # Save the chart to an HTML file\n",
    "    fig2.write_html(\"revenue_scatterplot.html\")\n",
    "    print(\"Plot for Exercise 2 saved to 'revenue_scatterplot.html'\")\n",
    "\n",
    "else:\n",
    "    print(\"\\nSkipping exercises as DataFrame could not be loaded.\")\n"
   ]
  }
 ],
 "metadata": {
  "kernelspec": {
   "display_name": "Python 3",
   "language": "python",
   "name": "python3"
  },
  "language_info": {
   "name": "python",
   "version": "3.12.10"
  }
 },
 "nbformat": 4,
 "nbformat_minor": 5
}
