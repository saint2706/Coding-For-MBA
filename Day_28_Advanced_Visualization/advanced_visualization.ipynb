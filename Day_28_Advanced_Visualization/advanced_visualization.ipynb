{
  "cells": [
    {
      "cell_type": "markdown",
      "metadata": {},
      "source": [
        "# Day 28 \u2013 Advanced Visualization\n",
        "This notebook demonstrates how to build the reusable charts from `advanced_visualization.py`."
      ]
    },
    {
      "cell_type": "code",
      "execution_count": null,
      "metadata": {},
      "outputs": [],
      "source": [
        "import pandas as pd\n",
        "from Day_28_Advanced_Visualization import advanced_visualization as av"
      ]
    },
    {
      "cell_type": "markdown",
      "metadata": {},
      "source": [
        "## Create a demo dataset\n",
        "In a real workflow you would call `av.load_sales_data()`.\n",
        "For the walkthrough we will use a compact dataset."
      ]
    },
    {
      "cell_type": "code",
      "execution_count": null,
      "metadata": {},
      "outputs": [],
      "source": [
        "sales_df = pd.DataFrame(\n",
        "    {\n",
        "        'Date': pd.to_datetime(['2024-01-01', '2024-01-02', '2024-01-02', '2024-01-03']),\n",
        "        'Product': ['A', 'A', 'B', 'B'],\n",
        "        'Revenue': [100.0, 120.0, 80.0, 140.0],\n",
        "    }\n",
        ")\n",
        "sales_df"
      ]
    },
    {
      "cell_type": "markdown",
      "metadata": {},
      "source": [
        "## Build the product revenue bar chart"
      ]
    },
    {
      "cell_type": "code",
      "execution_count": null,
      "metadata": {},
      "outputs": [],
      "source": [
        "fig_bar = av.build_product_revenue_bar(sales_df)\n",
        "fig_bar"
      ]
    },
    {
      "cell_type": "markdown",
      "metadata": {},
      "source": [
        "## Build the sales dashboard"
      ]
    },
    {
      "cell_type": "code",
      "execution_count": null,
      "metadata": {},
      "outputs": [],
      "source": [
        "fig_dashboard = av.build_sales_dashboard(sales_df)\n",
        "fig_dashboard"
      ]
    }
  ],
  "metadata": {
    "kernelspec": {
      "display_name": "Python 3",
      "language": "python",
      "name": "python3"
    },
    "language_info": {
      "name": "python",
      "version": "3.11"
    }
  },
  "nbformat": 4,
  "nbformat_minor": 5
}