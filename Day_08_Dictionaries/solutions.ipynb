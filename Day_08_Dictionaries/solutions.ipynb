{
 "cells": [
  {
   "cell_type": "markdown",
   "id": "4aeb4ba9",
   "metadata": {},
   "source": [
    "Day 8: Solutions to Exercises"
   ]
  },
  {
   "cell_type": "code",
   "execution_count": null,
   "id": "81d6f0be",
   "metadata": {},
   "outputs": [],
   "source": [
    "\n",
    "# --- Exercise 1: Create a Product Dictionary ---\n",
    "print(\"--- Solution to Exercise 1 ---\")\n",
    "product = {\n",
    "    \"product_id\": \"PROD-123\",\n",
    "    \"product_name\": \"SuperWidget\",\n",
    "    \"price\": 199.99,\n",
    "    \"in_stock\": True,\n",
    "    \"tags\": [\"electronics\", \"gadget\"],\n",
    "}\n",
    "\n",
    "# Accessing the values using their keys\n",
    "print(f\"Product Name: {product['product_name']}\")\n",
    "print(f\"Price: ${product['price']}\")\n",
    "print(\"-\" * 20)\n",
    "\n",
    "\n",
    "# --- Exercise 2: Modify Employee Information ---\n",
    "print(\"--- Solution to Exercise 2 ---\")\n",
    "employee = {\n",
    "    \"employee_id\": \"EMP-042\",\n",
    "    \"name\": \"Jane Smith\",\n",
    "    \"department\": \"Marketing\",\n",
    "    \"contact_info\": {\"email\": \"jane.smith@example.com\", \"phone_ext\": 112},\n",
    "    \"projects\": [\"Q1 Campaign\", \"Website Redesign\"],\n",
    "}\n",
    "print(f\"Original Employee Record: {employee}\")\n",
    "\n",
    "# Update the department\n",
    "employee[\"department\"] = \"Marketing Director\"\n",
    "\n",
    "# Add a new project to the list of projects\n",
    "employee[\"projects\"].append(\"2025 Strategy\")\n",
    "\n",
    "print(f\"Updated Employee Record: {employee}\")\n",
    "print(\"-\" * 20)\n",
    "\n",
    "\n",
    "# --- Exercise 3: Access Nested Data ---\n",
    "print(\"--- Solution to Exercise 3 ---\")\n",
    "company = {\n",
    "    \"company_name\": \"InnovateCorp\",\n",
    "    \"year_founded\": 2015,\n",
    "    \"headquarters\": {\"city\": \"New York\", \"state\": \"NY\", \"country\": \"USA\"},\n",
    "}\n",
    "\n",
    "# Accessing the nested dictionary and then the values within it\n",
    "company_name = company[\"company_name\"]\n",
    "hq_city = company[\"headquarters\"][\"city\"]\n",
    "hq_state = company[\"headquarters\"][\"state\"]\n",
    "\n",
    "print(f\"{company_name} is headquartered in {hq_city}, {hq_state}.\")\n",
    "print(\"-\" * 20)\n"
   ]
  }
 ],
 "metadata": {
  "kernelspec": {
   "display_name": "Python 3",
   "language": "python",
   "name": "python3"
  },
  "language_info": {
   "name": "python",
   "version": "3.12.10"
  }
 },
 "nbformat": 4,
 "nbformat_minor": 5
}
